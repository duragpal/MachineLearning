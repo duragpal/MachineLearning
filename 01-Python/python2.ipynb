{
 "cells": [
  {
   "cell_type": "code",
   "execution_count": 2,
   "id": "1d467b5d",
   "metadata": {},
   "outputs": [
    {
     "data": {
      "text/plain": [
       "[5, 10, 15, 20]"
      ]
     },
     "execution_count": 2,
     "metadata": {},
     "output_type": "execute_result"
    }
   ],
   "source": [
    "list(range(5,21,5))"
   ]
  },
  {
   "cell_type": "code",
   "execution_count": 5,
   "id": "1244e3b8",
   "metadata": {},
   "outputs": [
    {
     "name": "stdout",
     "output_type": "stream",
     "text": [
      "The price after providing 5 percent discount is $ 855.0\n",
      "The price after providing 10 percent discount is $ 810.0\n",
      "The price after providing 15 percent discount is $ 765.0\n",
      "The price after providing 20 percent discount is $ 720.0\n"
     ]
    }
   ],
   "source": [
    "price=900\n",
    "for i in range(5,21,5):\n",
    "    discount=price*(i/100)\n",
    "    discounted_price=price-discount\n",
    "    print(\"The price after providing\",i,\"percent discount is $\",discounted_price)"
   ]
  },
  {
   "cell_type": "code",
   "execution_count": 8,
   "id": "7b506ecc",
   "metadata": {},
   "outputs": [
    {
     "name": "stdout",
     "output_type": "stream",
     "text": [
      "The price after providing 5 percent discount is $ 855.0\n",
      "The price after providing 10 percent discount is $ 810.0\n",
      "The price after providing 15 percent discount is $ 765.0\n",
      "The price after providing 20 percent discount is $ 720.0\n"
     ]
    }
   ],
   "source": [
    "price=900\n",
    "i = 5;\n",
    "while i<=20:\n",
    "    discount=price*(i/100)\n",
    "    discounted_price=price-discount\n",
    "    print(\"The price after providing\",i,\"percent discount is $\",discounted_price)\n",
    "    i+=5;"
   ]
  },
  {
   "cell_type": "markdown",
   "id": "7920a913",
   "metadata": {},
   "source": [
    "# List Comprehension:"
   ]
  },
  {
   "cell_type": "code",
   "execution_count": 11,
   "id": "281a5fe3",
   "metadata": {},
   "outputs": [
    {
     "data": {
      "text/plain": [
       "[855.0, 810.0, 765.0, 720.0]"
      ]
     },
     "execution_count": 11,
     "metadata": {},
     "output_type": "execute_result"
    }
   ],
   "source": [
    "[price-price*(i/100) for i in range(5,21,5)]"
   ]
  },
  {
   "cell_type": "code",
   "execution_count": 13,
   "id": "13525978",
   "metadata": {},
   "outputs": [
    {
     "data": {
      "text/plain": [
       "[5, 10, 15, 20]"
      ]
     },
     "execution_count": 13,
     "metadata": {},
     "output_type": "execute_result"
    }
   ],
   "source": [
    "[i for i in range(5,21,5)]"
   ]
  },
  {
   "cell_type": "markdown",
   "id": "6c452f5b",
   "metadata": {},
   "source": [
    "# Error Handling:"
   ]
  },
  {
   "cell_type": "code",
   "execution_count": 16,
   "id": "81ec852d",
   "metadata": {},
   "outputs": [
    {
     "name": "stdout",
     "output_type": "stream",
     "text": [
      "Error: can't add str and int\n"
     ]
    }
   ],
   "source": [
    "x=5\n",
    "y=\"Hello\"\n",
    "try:\n",
    "    z=x+y\n",
    "except:\n",
    "    print(\"Error: can't add str and int\")"
   ]
  },
  {
   "cell_type": "code",
   "execution_count": 19,
   "id": "bdf0f429",
   "metadata": {},
   "outputs": [
    {
     "name": "stdout",
     "output_type": "stream",
     "text": [
      "Second element:  2\n",
      "An errror occured@!\n"
     ]
    }
   ],
   "source": [
    "a=[1,2,3]\n",
    "try:\n",
    "    print(\"Second element: \",a[1])\n",
    "    print(\"Fourth element: \",a[3])\n",
    "except:\n",
    "    print(\"An errror occured@!\")"
   ]
  },
  {
   "cell_type": "code",
   "execution_count": 21,
   "id": "132d140c",
   "metadata": {},
   "outputs": [
    {
     "name": "stdout",
     "output_type": "stream",
     "text": [
      "Cant divide by zero.\n",
      "This is always executed\n",
      "not defined..\n",
      "4\n"
     ]
    }
   ],
   "source": [
    "try:\n",
    "    k=5/0\n",
    "    print(k)\n",
    "except ZeroDivisionError:\n",
    "    print(\"Cant divide by zero.\")\n",
    "finally:\n",
    "    k=\"not defined..\"\n",
    "    print(\"This is always executed\")\n",
    "    print(k)\n",
    "    print(2+2)"
   ]
  },
  {
   "cell_type": "markdown",
   "id": "997a00dc",
   "metadata": {},
   "source": [
    "# Functions in Python"
   ]
  },
  {
   "cell_type": "code",
   "execution_count": 23,
   "id": "92cf1438",
   "metadata": {},
   "outputs": [],
   "source": [
    "def display_iphone_attributes():\n",
    "    price=900\n",
    "    ram=4\n",
    "    storage=128\n",
    "    print(\"The Apple iphone has\", ram,'GB RAM and',storage,'GB internal Storage and it costs around $',price)"
   ]
  },
  {
   "cell_type": "code",
   "execution_count": 25,
   "id": "b94d26fa",
   "metadata": {},
   "outputs": [
    {
     "name": "stdout",
     "output_type": "stream",
     "text": [
      "The Apple iphone has 4 GB RAM and 128 GB internal Storage and it costs around $ 900\n"
     ]
    }
   ],
   "source": [
    "display_iphone_attributes()"
   ]
  },
  {
   "cell_type": "code",
   "execution_count": 27,
   "id": "d91be2d1",
   "metadata": {},
   "outputs": [],
   "source": [
    "def display_phone_attributes(brand,price,ram,storage):\n",
    "    \n",
    "    print(\"The\",brand,\" phone has\", ram,'GB RAM and',storage,'GB internal Storage and it costs around $',price)"
   ]
  },
  {
   "cell_type": "code",
   "execution_count": 29,
   "id": "a9f4f1ce",
   "metadata": {},
   "outputs": [
    {
     "name": "stdout",
     "output_type": "stream",
     "text": [
      "The Samsung  phone has 12 GB RAM and 128 GB internal Storage and it costs around $ 899\n"
     ]
    }
   ],
   "source": [
    "display_phone_attributes('Samsung',899,12,128)"
   ]
  },
  {
   "cell_type": "code",
   "execution_count": 31,
   "id": "ef2357d8",
   "metadata": {},
   "outputs": [],
   "source": [
    "def dis_price(discount):\n",
    "    price=900\n",
    "    discounted_price=price-price*(discount/100)\n",
    "    return discounted_price"
   ]
  },
  {
   "cell_type": "code",
   "execution_count": 32,
   "id": "34da11ce",
   "metadata": {},
   "outputs": [
    {
     "data": {
      "text/plain": [
       "846.0"
      ]
     },
     "execution_count": 32,
     "metadata": {},
     "output_type": "execute_result"
    }
   ],
   "source": [
    "dis_price(6)"
   ]
  }
 ],
 "metadata": {
  "kernelspec": {
   "display_name": "Python 3 (ipykernel)",
   "language": "python",
   "name": "python3"
  },
  "language_info": {
   "codemirror_mode": {
    "name": "ipython",
    "version": 3
   },
   "file_extension": ".py",
   "mimetype": "text/x-python",
   "name": "python",
   "nbconvert_exporter": "python",
   "pygments_lexer": "ipython3",
   "version": "3.9.13"
  }
 },
 "nbformat": 4,
 "nbformat_minor": 5
}
