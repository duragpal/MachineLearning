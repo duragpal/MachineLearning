{
 "cells": [
  {
   "cell_type": "code",
   "execution_count": 6,
   "id": "278a17b9",
   "metadata": {},
   "outputs": [],
   "source": [
    "import numpy as np\n",
    "import pandas as pd"
   ]
  },
  {
   "cell_type": "markdown",
   "id": "ade89394",
   "metadata": {},
   "source": [
    "## Creating pandas Series and DataFrame "
   ]
  },
  {
   "cell_type": "code",
   "execution_count": 7,
   "id": "61cabdc0",
   "metadata": {},
   "outputs": [
    {
     "name": "stdout",
     "output_type": "stream",
     "text": [
      "0    55\n",
      "1    25\n",
      "2    75\n",
      "3    40\n",
      "4    90\n",
      "dtype: int64\n",
      "0    55\n",
      "1    25\n",
      "2    75\n",
      "3    40\n",
      "4    90\n",
      "dtype: int32\n"
     ]
    }
   ],
   "source": [
    "marks_list=[55,25,75,40,90]\n",
    "marks_arr=np.array(marks_list)\n",
    "\n",
    "series_list=pd.Series(marks_list)\n",
    "series_arr=pd.Series(marks_arr)\n",
    "print(series_list)\n",
    "print(series_arr)"
   ]
  },
  {
   "cell_type": "code",
   "execution_count": 10,
   "id": "d0bb9979",
   "metadata": {},
   "outputs": [
    {
     "data": {
      "text/plain": [
       "A    55\n",
       "B    25\n",
       "C    75\n",
       "D    40\n",
       "E    90\n",
       "dtype: int64"
      ]
     },
     "execution_count": 10,
     "metadata": {},
     "output_type": "execute_result"
    }
   ],
   "source": [
    "#change label of series\n",
    "label_series=pd.Series(marks_list,index=['A','B','C','D','E'])\n",
    "label_series"
   ]
  },
  {
   "cell_type": "markdown",
   "id": "2fa99fe5",
   "metadata": {},
   "source": [
    "### Mathematical Operations on Pandas Series:"
   ]
  },
  {
   "cell_type": "code",
   "execution_count": 12,
   "id": "19bdfe8f",
   "metadata": {},
   "outputs": [
    {
     "data": {
      "text/plain": [
       "A    57.5\n",
       "B    27.5\n",
       "C    77.5\n",
       "D    42.5\n",
       "E    92.5\n",
       "dtype: float64"
      ]
     },
     "execution_count": 12,
     "metadata": {},
     "output_type": "execute_result"
    }
   ],
   "source": [
    "label_updated=label_series+2.5\n",
    "label_updated"
   ]
  },
  {
   "cell_type": "code",
   "execution_count": 16,
   "id": "8a1fc8a0",
   "metadata": {},
   "outputs": [
    {
     "name": "stdout",
     "output_type": "stream",
     "text": [
      "A    2.5\n",
      "B    2.5\n",
      "C    2.5\n",
      "D    2.5\n",
      "E    2.5\n",
      "dtype: float64\n",
      "A    110\n",
      "B     50\n",
      "C    150\n",
      "D     80\n",
      "E    180\n",
      "dtype: int64\n",
      "A    27.5\n",
      "B    12.5\n",
      "C    37.5\n",
      "D    20.0\n",
      "E    45.0\n",
      "dtype: float64\n"
     ]
    }
   ],
   "source": [
    "print(label_updated-label_series)\n",
    "print(label_series * 2)\n",
    "print(label_series / 2)"
   ]
  },
  {
   "cell_type": "markdown",
   "id": "f076d84b",
   "metadata": {},
   "source": [
    "# DataFrame : "
   ]
  },
  {
   "cell_type": "code",
   "execution_count": 35,
   "id": "f76cdfbf",
   "metadata": {},
   "outputs": [
    {
     "data": {
      "text/html": [
       "<div>\n",
       "<style scoped>\n",
       "    .dataframe tbody tr th:only-of-type {\n",
       "        vertical-align: middle;\n",
       "    }\n",
       "\n",
       "    .dataframe tbody tr th {\n",
       "        vertical-align: top;\n",
       "    }\n",
       "\n",
       "    .dataframe thead th {\n",
       "        text-align: right;\n",
       "    }\n",
       "</style>\n",
       "<table border=\"1\" class=\"dataframe\">\n",
       "  <thead>\n",
       "    <tr style=\"text-align: right;\">\n",
       "      <th></th>\n",
       "      <th>Student</th>\n",
       "    </tr>\n",
       "  </thead>\n",
       "  <tbody>\n",
       "    <tr>\n",
       "      <th>0</th>\n",
       "      <td>Mary</td>\n",
       "    </tr>\n",
       "    <tr>\n",
       "      <th>1</th>\n",
       "      <td>Himahsu</td>\n",
       "    </tr>\n",
       "    <tr>\n",
       "      <th>2</th>\n",
       "      <td>Tanish</td>\n",
       "    </tr>\n",
       "    <tr>\n",
       "      <th>3</th>\n",
       "      <td>Abhishek</td>\n",
       "    </tr>\n",
       "    <tr>\n",
       "      <th>4</th>\n",
       "      <td>vishal</td>\n",
       "    </tr>\n",
       "  </tbody>\n",
       "</table>\n",
       "</div>"
      ],
      "text/plain": [
       "    Student\n",
       "0      Mary\n",
       "1   Himahsu\n",
       "2    Tanish\n",
       "3  Abhishek\n",
       "4    vishal"
      ]
     },
     "execution_count": 35,
     "metadata": {},
     "output_type": "execute_result"
    }
   ],
   "source": [
    "#Using LIST\n",
    "student=[\"Mary\",\"Himahsu\",\"Tanish\",\"Abhishek\",\"vishal\"]\n",
    "df1=pd.DataFrame(student,columns=['Student'])\n",
    "df1"
   ]
  },
  {
   "cell_type": "code",
   "execution_count": 23,
   "id": "3821d2c6",
   "metadata": {},
   "outputs": [
    {
     "data": {
      "text/html": [
       "<div>\n",
       "<style scoped>\n",
       "    .dataframe tbody tr th:only-of-type {\n",
       "        vertical-align: middle;\n",
       "    }\n",
       "\n",
       "    .dataframe tbody tr th {\n",
       "        vertical-align: top;\n",
       "    }\n",
       "\n",
       "    .dataframe thead th {\n",
       "        text-align: right;\n",
       "    }\n",
       "</style>\n",
       "<table border=\"1\" class=\"dataframe\">\n",
       "  <thead>\n",
       "    <tr style=\"text-align: right;\">\n",
       "      <th></th>\n",
       "      <th>students</th>\n",
       "      <th>Grade</th>\n",
       "    </tr>\n",
       "  </thead>\n",
       "  <tbody>\n",
       "    <tr>\n",
       "      <th>0</th>\n",
       "      <td>Mary</td>\n",
       "      <td>A</td>\n",
       "    </tr>\n",
       "    <tr>\n",
       "      <th>1</th>\n",
       "      <td>Himahsu</td>\n",
       "      <td>A+</td>\n",
       "    </tr>\n",
       "    <tr>\n",
       "      <th>2</th>\n",
       "      <td>Tanish</td>\n",
       "      <td>B</td>\n",
       "    </tr>\n",
       "    <tr>\n",
       "      <th>3</th>\n",
       "      <td>Abhishek</td>\n",
       "      <td>B+</td>\n",
       "    </tr>\n",
       "    <tr>\n",
       "      <th>4</th>\n",
       "      <td>vishal</td>\n",
       "      <td>C</td>\n",
       "    </tr>\n",
       "  </tbody>\n",
       "</table>\n",
       "</div>"
      ],
      "text/plain": [
       "   students Grade\n",
       "0      Mary     A\n",
       "1   Himahsu    A+\n",
       "2    Tanish     B\n",
       "3  Abhishek    B+\n",
       "4    vishal     C"
      ]
     },
     "execution_count": 23,
     "metadata": {},
     "output_type": "execute_result"
    }
   ],
   "source": [
    "#Using dictionary\n",
    "grades=['A',\"A+\",\"B\",\"B+\",\"C\"]\n",
    "df2=pd.DataFrame({\"students\":student,\"Grade\":grades})\n",
    "df2"
   ]
  },
  {
   "cell_type": "code",
   "execution_count": 26,
   "id": "3e72ae69",
   "metadata": {},
   "outputs": [
    {
     "name": "stdout",
     "output_type": "stream",
     "text": [
      "<class 'pandas.core.frame.DataFrame'>\n",
      "<class 'pandas.core.series.Series'>\n"
     ]
    }
   ],
   "source": [
    "print(type(df2))\n",
    "print(type(df2[\"Grade\"]))"
   ]
  },
  {
   "cell_type": "code",
   "execution_count": 28,
   "id": "8115d1cc",
   "metadata": {},
   "outputs": [],
   "source": [
    "df2[\"num\"]=[10,12,11,13,15]"
   ]
  },
  {
   "cell_type": "code",
   "execution_count": 30,
   "id": "87ce0ebc",
   "metadata": {},
   "outputs": [
    {
     "data": {
      "text/html": [
       "<div>\n",
       "<style scoped>\n",
       "    .dataframe tbody tr th:only-of-type {\n",
       "        vertical-align: middle;\n",
       "    }\n",
       "\n",
       "    .dataframe tbody tr th {\n",
       "        vertical-align: top;\n",
       "    }\n",
       "\n",
       "    .dataframe thead th {\n",
       "        text-align: right;\n",
       "    }\n",
       "</style>\n",
       "<table border=\"1\" class=\"dataframe\">\n",
       "  <thead>\n",
       "    <tr style=\"text-align: right;\">\n",
       "      <th></th>\n",
       "      <th>students</th>\n",
       "      <th>Grade</th>\n",
       "      <th>num</th>\n",
       "    </tr>\n",
       "  </thead>\n",
       "  <tbody>\n",
       "    <tr>\n",
       "      <th>0</th>\n",
       "      <td>Mary</td>\n",
       "      <td>A</td>\n",
       "      <td>10</td>\n",
       "    </tr>\n",
       "    <tr>\n",
       "      <th>1</th>\n",
       "      <td>Himahsu</td>\n",
       "      <td>A+</td>\n",
       "      <td>12</td>\n",
       "    </tr>\n",
       "    <tr>\n",
       "      <th>2</th>\n",
       "      <td>Tanish</td>\n",
       "      <td>B</td>\n",
       "      <td>11</td>\n",
       "    </tr>\n",
       "    <tr>\n",
       "      <th>3</th>\n",
       "      <td>Abhishek</td>\n",
       "      <td>B+</td>\n",
       "      <td>13</td>\n",
       "    </tr>\n",
       "    <tr>\n",
       "      <th>4</th>\n",
       "      <td>vishal</td>\n",
       "      <td>C</td>\n",
       "      <td>15</td>\n",
       "    </tr>\n",
       "  </tbody>\n",
       "</table>\n",
       "</div>"
      ],
      "text/plain": [
       "   students Grade  num\n",
       "0      Mary     A   10\n",
       "1   Himahsu    A+   12\n",
       "2    Tanish     B   11\n",
       "3  Abhishek    B+   13\n",
       "4    vishal     C   15"
      ]
     },
     "execution_count": 30,
     "metadata": {},
     "output_type": "execute_result"
    }
   ],
   "source": [
    "df2"
   ]
  },
  {
   "cell_type": "code",
   "execution_count": 32,
   "id": "c00f1c43",
   "metadata": {},
   "outputs": [
    {
     "data": {
      "text/html": [
       "<div>\n",
       "<style scoped>\n",
       "    .dataframe tbody tr th:only-of-type {\n",
       "        vertical-align: middle;\n",
       "    }\n",
       "\n",
       "    .dataframe tbody tr th {\n",
       "        vertical-align: top;\n",
       "    }\n",
       "\n",
       "    .dataframe thead th {\n",
       "        text-align: right;\n",
       "    }\n",
       "</style>\n",
       "<table border=\"1\" class=\"dataframe\">\n",
       "  <thead>\n",
       "    <tr style=\"text-align: right;\">\n",
       "      <th></th>\n",
       "      <th>Year</th>\n",
       "      <th>Energy</th>\n",
       "    </tr>\n",
       "  </thead>\n",
       "  <tbody>\n",
       "    <tr>\n",
       "      <th>0</th>\n",
       "      <td>2012</td>\n",
       "      <td>53</td>\n",
       "    </tr>\n",
       "    <tr>\n",
       "      <th>1</th>\n",
       "      <td>2013</td>\n",
       "      <td>296</td>\n",
       "    </tr>\n",
       "    <tr>\n",
       "      <th>2</th>\n",
       "      <td>2015</td>\n",
       "      <td>17</td>\n",
       "    </tr>\n",
       "    <tr>\n",
       "      <th>3</th>\n",
       "      <td>2016</td>\n",
       "      <td>22</td>\n",
       "    </tr>\n",
       "    <tr>\n",
       "      <th>4</th>\n",
       "      <td>2017</td>\n",
       "      <td>80</td>\n",
       "    </tr>\n",
       "    <tr>\n",
       "      <th>5</th>\n",
       "      <td>2018</td>\n",
       "      <td>96</td>\n",
       "    </tr>\n",
       "  </tbody>\n",
       "</table>\n",
       "</div>"
      ],
      "text/plain": [
       "   Year  Energy\n",
       "0  2012      53\n",
       "1  2013     296\n",
       "2  2015      17\n",
       "3  2016      22\n",
       "4  2017      80\n",
       "5  2018      96"
      ]
     },
     "execution_count": 32,
     "metadata": {},
     "output_type": "execute_result"
    }
   ],
   "source": [
    "#using Series:\n",
    "year=pd.Series([2012,2013,2015,2016,2017,2018])\n",
    "energy=pd.Series([53,296,17,22,80,96])\n",
    "df3 = pd.DataFrame({\"Year\":year,\"Energy\":energy})\n",
    "df3"
   ]
  },
  {
   "cell_type": "code",
   "execution_count": 36,
   "id": "cef23bd3",
   "metadata": {},
   "outputs": [
    {
     "data": {
      "text/html": [
       "<div>\n",
       "<style scoped>\n",
       "    .dataframe tbody tr th:only-of-type {\n",
       "        vertical-align: middle;\n",
       "    }\n",
       "\n",
       "    .dataframe tbody tr th {\n",
       "        vertical-align: top;\n",
       "    }\n",
       "\n",
       "    .dataframe thead th {\n",
       "        text-align: right;\n",
       "    }\n",
       "</style>\n",
       "<table border=\"1\" class=\"dataframe\">\n",
       "  <thead>\n",
       "    <tr style=\"text-align: right;\">\n",
       "      <th></th>\n",
       "      <th>Trial 1</th>\n",
       "      <th>Trial 2</th>\n",
       "    </tr>\n",
       "  </thead>\n",
       "  <tbody>\n",
       "    <tr>\n",
       "      <th>0</th>\n",
       "      <td>-0.043442</td>\n",
       "      <td>1.388220</td>\n",
       "    </tr>\n",
       "    <tr>\n",
       "      <th>1</th>\n",
       "      <td>0.085969</td>\n",
       "      <td>0.236648</td>\n",
       "    </tr>\n",
       "    <tr>\n",
       "      <th>2</th>\n",
       "      <td>0.177393</td>\n",
       "      <td>-0.226381</td>\n",
       "    </tr>\n",
       "    <tr>\n",
       "      <th>3</th>\n",
       "      <td>0.364302</td>\n",
       "      <td>1.042039</td>\n",
       "    </tr>\n",
       "    <tr>\n",
       "      <th>4</th>\n",
       "      <td>0.595188</td>\n",
       "      <td>0.129800</td>\n",
       "    </tr>\n",
       "  </tbody>\n",
       "</table>\n",
       "</div>"
      ],
      "text/plain": [
       "    Trial 1   Trial 2\n",
       "0 -0.043442  1.388220\n",
       "1  0.085969  0.236648\n",
       "2  0.177393 -0.226381\n",
       "3  0.364302  1.042039\n",
       "4  0.595188  0.129800"
      ]
     },
     "execution_count": 36,
     "metadata": {},
     "output_type": "execute_result"
    }
   ],
   "source": [
    "#using random numbers\n",
    "df4=pd.DataFrame(np.random.randn(5,2),columns=[\"Trial 1\",\"Trial 2\"])\n",
    "df4"
   ]
  },
  {
   "cell_type": "markdown",
   "id": "564c61f0",
   "metadata": {},
   "source": [
    "# Accessing and Modifying Series:"
   ]
  },
  {
   "cell_type": "code",
   "execution_count": 42,
   "id": "97c1aede",
   "metadata": {},
   "outputs": [
    {
     "data": {
      "text/plain": [
       "A    55\n",
       "B    25\n",
       "C    75\n",
       "D    40\n",
       "E    90\n",
       "dtype: int64"
      ]
     },
     "execution_count": 42,
     "metadata": {},
     "output_type": "execute_result"
    }
   ],
   "source": [
    "label_series"
   ]
  },
  {
   "cell_type": "code",
   "execution_count": 44,
   "id": "968e525b",
   "metadata": {},
   "outputs": [
    {
     "data": {
      "text/plain": [
       "55"
      ]
     },
     "execution_count": 44,
     "metadata": {},
     "output_type": "execute_result"
    }
   ],
   "source": [
    "label_series[\"A\"]"
   ]
  },
  {
   "cell_type": "code",
   "execution_count": 50,
   "id": "40f7a239",
   "metadata": {},
   "outputs": [
    {
     "data": {
      "text/plain": [
       "55"
      ]
     },
     "execution_count": 50,
     "metadata": {},
     "output_type": "execute_result"
    }
   ],
   "source": [
    "label_series[0]"
   ]
  },
  {
   "cell_type": "code",
   "execution_count": 55,
   "id": "d174c55e",
   "metadata": {},
   "outputs": [
    {
     "data": {
      "text/plain": [
       "A    55\n",
       "B    25\n",
       "C    75\n",
       "dtype: int64"
      ]
     },
     "execution_count": 55,
     "metadata": {},
     "output_type": "execute_result"
    }
   ],
   "source": [
    "label_series[:3]"
   ]
  },
  {
   "cell_type": "code",
   "execution_count": 60,
   "id": "82311136",
   "metadata": {},
   "outputs": [
    {
     "data": {
      "text/plain": [
       "A    55\n",
       "C    75\n",
       "D    40\n",
       "dtype: int64"
      ]
     },
     "execution_count": 60,
     "metadata": {},
     "output_type": "execute_result"
    }
   ],
   "source": [
    "#acessing multiple elements\n",
    "label_series[[0,2,3]]"
   ]
  },
  {
   "cell_type": "code",
   "execution_count": 62,
   "id": "6b386c1c",
   "metadata": {},
   "outputs": [
    {
     "data": {
      "text/plain": [
       "B    25\n",
       "C    75\n",
       "dtype: int64"
      ]
     },
     "execution_count": 62,
     "metadata": {},
     "output_type": "execute_result"
    }
   ],
   "source": [
    "label_series[np.arange(1,3,1)]"
   ]
  },
  {
   "cell_type": "code",
   "execution_count": 68,
   "id": "9a46bfc1",
   "metadata": {},
   "outputs": [
    {
     "data": {
      "text/plain": [
       "A    55\n",
       "B    25\n",
       "C    75\n",
       "dtype: int64"
      ]
     },
     "execution_count": 68,
     "metadata": {},
     "output_type": "execute_result"
    }
   ],
   "source": [
    "label_series[:\"C\"]"
   ]
  },
  {
   "cell_type": "code",
   "execution_count": 70,
   "id": "4571382a",
   "metadata": {},
   "outputs": [
    {
     "data": {
      "text/plain": [
       "A    55\n",
       "C    75\n",
       "E    90\n",
       "dtype: int64"
      ]
     },
     "execution_count": 70,
     "metadata": {},
     "output_type": "execute_result"
    }
   ],
   "source": [
    "label_series[[\"A\",\"C\",\"E\"]]"
   ]
  },
  {
   "cell_type": "code",
   "execution_count": 75,
   "id": "12e02312",
   "metadata": {},
   "outputs": [],
   "source": [
    "df2[\"roll\"]=[123,124,125,126,127]"
   ]
  },
  {
   "cell_type": "code",
   "execution_count": 76,
   "id": "5732290d",
   "metadata": {},
   "outputs": [
    {
     "data": {
      "text/html": [
       "<div>\n",
       "<style scoped>\n",
       "    .dataframe tbody tr th:only-of-type {\n",
       "        vertical-align: middle;\n",
       "    }\n",
       "\n",
       "    .dataframe tbody tr th {\n",
       "        vertical-align: top;\n",
       "    }\n",
       "\n",
       "    .dataframe thead th {\n",
       "        text-align: right;\n",
       "    }\n",
       "</style>\n",
       "<table border=\"1\" class=\"dataframe\">\n",
       "  <thead>\n",
       "    <tr style=\"text-align: right;\">\n",
       "      <th></th>\n",
       "      <th>students</th>\n",
       "      <th>Grade</th>\n",
       "      <th>num</th>\n",
       "      <th>roll</th>\n",
       "    </tr>\n",
       "  </thead>\n",
       "  <tbody>\n",
       "    <tr>\n",
       "      <th>0</th>\n",
       "      <td>Mary</td>\n",
       "      <td>A</td>\n",
       "      <td>10</td>\n",
       "      <td>123</td>\n",
       "    </tr>\n",
       "    <tr>\n",
       "      <th>1</th>\n",
       "      <td>Himahsu</td>\n",
       "      <td>A+</td>\n",
       "      <td>12</td>\n",
       "      <td>124</td>\n",
       "    </tr>\n",
       "    <tr>\n",
       "      <th>2</th>\n",
       "      <td>Tanish</td>\n",
       "      <td>B</td>\n",
       "      <td>11</td>\n",
       "      <td>125</td>\n",
       "    </tr>\n",
       "    <tr>\n",
       "      <th>3</th>\n",
       "      <td>Abhishek</td>\n",
       "      <td>B+</td>\n",
       "      <td>13</td>\n",
       "      <td>126</td>\n",
       "    </tr>\n",
       "    <tr>\n",
       "      <th>4</th>\n",
       "      <td>vishal</td>\n",
       "      <td>C</td>\n",
       "      <td>15</td>\n",
       "      <td>127</td>\n",
       "    </tr>\n",
       "  </tbody>\n",
       "</table>\n",
       "</div>"
      ],
      "text/plain": [
       "   students Grade  num  roll\n",
       "0      Mary     A   10   123\n",
       "1   Himahsu    A+   12   124\n",
       "2    Tanish     B   11   125\n",
       "3  Abhishek    B+   13   126\n",
       "4    vishal     C   15   127"
      ]
     },
     "execution_count": 76,
     "metadata": {},
     "output_type": "execute_result"
    }
   ],
   "source": [
    "df2"
   ]
  },
  {
   "cell_type": "code",
   "execution_count": 86,
   "id": "0dbe04d2",
   "metadata": {},
   "outputs": [
    {
     "data": {
      "text/plain": [
       "0        Mary\n",
       "1     Himahsu\n",
       "2      Tanish\n",
       "3    Abhishek\n",
       "4      vishal\n",
       "Name: students, dtype: object"
      ]
     },
     "execution_count": 86,
     "metadata": {},
     "output_type": "execute_result"
    }
   ],
   "source": [
    "df2[\"students\"]"
   ]
  },
  {
   "cell_type": "code",
   "execution_count": 89,
   "id": "9603a4e0",
   "metadata": {},
   "outputs": [
    {
     "data": {
      "text/html": [
       "<div>\n",
       "<style scoped>\n",
       "    .dataframe tbody tr th:only-of-type {\n",
       "        vertical-align: middle;\n",
       "    }\n",
       "\n",
       "    .dataframe tbody tr th {\n",
       "        vertical-align: top;\n",
       "    }\n",
       "\n",
       "    .dataframe thead th {\n",
       "        text-align: right;\n",
       "    }\n",
       "</style>\n",
       "<table border=\"1\" class=\"dataframe\">\n",
       "  <thead>\n",
       "    <tr style=\"text-align: right;\">\n",
       "      <th></th>\n",
       "      <th>students</th>\n",
       "      <th>Grade</th>\n",
       "      <th>num</th>\n",
       "      <th>roll</th>\n",
       "    </tr>\n",
       "  </thead>\n",
       "  <tbody>\n",
       "    <tr>\n",
       "      <th>1</th>\n",
       "      <td>Himahsu</td>\n",
       "      <td>A+</td>\n",
       "      <td>12</td>\n",
       "      <td>124</td>\n",
       "    </tr>\n",
       "    <tr>\n",
       "      <th>3</th>\n",
       "      <td>Abhishek</td>\n",
       "      <td>B+</td>\n",
       "      <td>13</td>\n",
       "      <td>126</td>\n",
       "    </tr>\n",
       "  </tbody>\n",
       "</table>\n",
       "</div>"
      ],
      "text/plain": [
       "   students Grade  num  roll\n",
       "1   Himahsu    A+   12   124\n",
       "3  Abhishek    B+   13   126"
      ]
     },
     "execution_count": 89,
     "metadata": {},
     "output_type": "execute_result"
    }
   ],
   "source": [
    "df2[1:5:2]"
   ]
  },
  {
   "cell_type": "code",
   "execution_count": 90,
   "id": "9dfc0c38",
   "metadata": {},
   "outputs": [
    {
     "data": {
      "text/html": [
       "<div>\n",
       "<style scoped>\n",
       "    .dataframe tbody tr th:only-of-type {\n",
       "        vertical-align: middle;\n",
       "    }\n",
       "\n",
       "    .dataframe tbody tr th {\n",
       "        vertical-align: top;\n",
       "    }\n",
       "\n",
       "    .dataframe thead th {\n",
       "        text-align: right;\n",
       "    }\n",
       "</style>\n",
       "<table border=\"1\" class=\"dataframe\">\n",
       "  <thead>\n",
       "    <tr style=\"text-align: right;\">\n",
       "      <th></th>\n",
       "      <th>students</th>\n",
       "      <th>Grade</th>\n",
       "      <th>num</th>\n",
       "      <th>roll</th>\n",
       "    </tr>\n",
       "  </thead>\n",
       "  <tbody>\n",
       "    <tr>\n",
       "      <th>4</th>\n",
       "      <td>vishal</td>\n",
       "      <td>C</td>\n",
       "      <td>15</td>\n",
       "      <td>127</td>\n",
       "    </tr>\n",
       "    <tr>\n",
       "      <th>2</th>\n",
       "      <td>Tanish</td>\n",
       "      <td>B</td>\n",
       "      <td>11</td>\n",
       "      <td>125</td>\n",
       "    </tr>\n",
       "    <tr>\n",
       "      <th>0</th>\n",
       "      <td>Mary</td>\n",
       "      <td>A</td>\n",
       "      <td>10</td>\n",
       "      <td>123</td>\n",
       "    </tr>\n",
       "  </tbody>\n",
       "</table>\n",
       "</div>"
      ],
      "text/plain": [
       "  students Grade  num  roll\n",
       "4   vishal     C   15   127\n",
       "2   Tanish     B   11   125\n",
       "0     Mary     A   10   123"
      ]
     },
     "execution_count": 90,
     "metadata": {},
     "output_type": "execute_result"
    }
   ],
   "source": [
    "df2[::-2]"
   ]
  },
  {
   "cell_type": "code",
   "execution_count": 91,
   "id": "7e28fe99",
   "metadata": {},
   "outputs": [
    {
     "data": {
      "text/plain": [
       "0       Mary\n",
       "1    Himahsu\n",
       "2     Tanish\n",
       "4     vishal\n",
       "Name: students, dtype: object"
      ]
     },
     "execution_count": 91,
     "metadata": {},
     "output_type": "execute_result"
    }
   ],
   "source": [
    "df2[\"students\"][[0,1,2,4]]"
   ]
  },
  {
   "cell_type": "markdown",
   "id": "1d85da98",
   "metadata": {},
   "source": [
    "# Reshaping the DataFrame:"
   ]
  },
  {
   "cell_type": "code",
   "execution_count": 94,
   "id": "4721ef54",
   "metadata": {},
   "outputs": [
    {
     "data": {
      "text/plain": [
       "0  students        Mary\n",
       "   Grade              A\n",
       "   num               10\n",
       "   roll             123\n",
       "1  students     Himahsu\n",
       "   Grade             A+\n",
       "   num               12\n",
       "   roll             124\n",
       "2  students      Tanish\n",
       "   Grade              B\n",
       "   num               11\n",
       "   roll             125\n",
       "3  students    Abhishek\n",
       "   Grade             B+\n",
       "   num               13\n",
       "   roll             126\n",
       "4  students      vishal\n",
       "   Grade              C\n",
       "   num               15\n",
       "   roll             127\n",
       "dtype: object"
      ]
     },
     "execution_count": 94,
     "metadata": {},
     "output_type": "execute_result"
    }
   ],
   "source": [
    "df2.stack() "
   ]
  },
  {
   "cell_type": "code",
   "execution_count": 96,
   "id": "0145db6c",
   "metadata": {},
   "outputs": [
    {
     "data": {
      "text/plain": [
       "students  0        Mary\n",
       "          1     Himahsu\n",
       "          2      Tanish\n",
       "          3    Abhishek\n",
       "          4      vishal\n",
       "Grade     0           A\n",
       "          1          A+\n",
       "          2           B\n",
       "          3          B+\n",
       "          4           C\n",
       "num       0          10\n",
       "          1          12\n",
       "          2          11\n",
       "          3          13\n",
       "          4          15\n",
       "roll      0         123\n",
       "          1         124\n",
       "          2         125\n",
       "          3         126\n",
       "          4         127\n",
       "dtype: object"
      ]
     },
     "execution_count": 96,
     "metadata": {},
     "output_type": "execute_result"
    }
   ],
   "source": [
    "df2.unstack()"
   ]
  },
  {
   "cell_type": "code",
   "execution_count": 98,
   "id": "8d135cb9",
   "metadata": {},
   "outputs": [
    {
     "data": {
      "text/html": [
       "<div>\n",
       "<style scoped>\n",
       "    .dataframe tbody tr th:only-of-type {\n",
       "        vertical-align: middle;\n",
       "    }\n",
       "\n",
       "    .dataframe tbody tr th {\n",
       "        vertical-align: top;\n",
       "    }\n",
       "\n",
       "    .dataframe thead th {\n",
       "        text-align: right;\n",
       "    }\n",
       "</style>\n",
       "<table border=\"1\" class=\"dataframe\">\n",
       "  <thead>\n",
       "    <tr style=\"text-align: right;\">\n",
       "      <th></th>\n",
       "      <th>variable</th>\n",
       "      <th>value</th>\n",
       "    </tr>\n",
       "  </thead>\n",
       "  <tbody>\n",
       "    <tr>\n",
       "      <th>0</th>\n",
       "      <td>students</td>\n",
       "      <td>Mary</td>\n",
       "    </tr>\n",
       "    <tr>\n",
       "      <th>1</th>\n",
       "      <td>students</td>\n",
       "      <td>Himahsu</td>\n",
       "    </tr>\n",
       "    <tr>\n",
       "      <th>2</th>\n",
       "      <td>students</td>\n",
       "      <td>Tanish</td>\n",
       "    </tr>\n",
       "    <tr>\n",
       "      <th>3</th>\n",
       "      <td>students</td>\n",
       "      <td>Abhishek</td>\n",
       "    </tr>\n",
       "    <tr>\n",
       "      <th>4</th>\n",
       "      <td>students</td>\n",
       "      <td>vishal</td>\n",
       "    </tr>\n",
       "    <tr>\n",
       "      <th>5</th>\n",
       "      <td>Grade</td>\n",
       "      <td>A</td>\n",
       "    </tr>\n",
       "    <tr>\n",
       "      <th>6</th>\n",
       "      <td>Grade</td>\n",
       "      <td>A+</td>\n",
       "    </tr>\n",
       "    <tr>\n",
       "      <th>7</th>\n",
       "      <td>Grade</td>\n",
       "      <td>B</td>\n",
       "    </tr>\n",
       "    <tr>\n",
       "      <th>8</th>\n",
       "      <td>Grade</td>\n",
       "      <td>B+</td>\n",
       "    </tr>\n",
       "    <tr>\n",
       "      <th>9</th>\n",
       "      <td>Grade</td>\n",
       "      <td>C</td>\n",
       "    </tr>\n",
       "    <tr>\n",
       "      <th>10</th>\n",
       "      <td>num</td>\n",
       "      <td>10</td>\n",
       "    </tr>\n",
       "    <tr>\n",
       "      <th>11</th>\n",
       "      <td>num</td>\n",
       "      <td>12</td>\n",
       "    </tr>\n",
       "    <tr>\n",
       "      <th>12</th>\n",
       "      <td>num</td>\n",
       "      <td>11</td>\n",
       "    </tr>\n",
       "    <tr>\n",
       "      <th>13</th>\n",
       "      <td>num</td>\n",
       "      <td>13</td>\n",
       "    </tr>\n",
       "    <tr>\n",
       "      <th>14</th>\n",
       "      <td>num</td>\n",
       "      <td>15</td>\n",
       "    </tr>\n",
       "    <tr>\n",
       "      <th>15</th>\n",
       "      <td>roll</td>\n",
       "      <td>123</td>\n",
       "    </tr>\n",
       "    <tr>\n",
       "      <th>16</th>\n",
       "      <td>roll</td>\n",
       "      <td>124</td>\n",
       "    </tr>\n",
       "    <tr>\n",
       "      <th>17</th>\n",
       "      <td>roll</td>\n",
       "      <td>125</td>\n",
       "    </tr>\n",
       "    <tr>\n",
       "      <th>18</th>\n",
       "      <td>roll</td>\n",
       "      <td>126</td>\n",
       "    </tr>\n",
       "    <tr>\n",
       "      <th>19</th>\n",
       "      <td>roll</td>\n",
       "      <td>127</td>\n",
       "    </tr>\n",
       "  </tbody>\n",
       "</table>\n",
       "</div>"
      ],
      "text/plain": [
       "    variable     value\n",
       "0   students      Mary\n",
       "1   students   Himahsu\n",
       "2   students    Tanish\n",
       "3   students  Abhishek\n",
       "4   students    vishal\n",
       "5      Grade         A\n",
       "6      Grade        A+\n",
       "7      Grade         B\n",
       "8      Grade        B+\n",
       "9      Grade         C\n",
       "10       num        10\n",
       "11       num        12\n",
       "12       num        11\n",
       "13       num        13\n",
       "14       num        15\n",
       "15      roll       123\n",
       "16      roll       124\n",
       "17      roll       125\n",
       "18      roll       126\n",
       "19      roll       127"
      ]
     },
     "execution_count": 98,
     "metadata": {},
     "output_type": "execute_result"
    }
   ],
   "source": [
    "df2.melt()  #gets only variable and value i.e only 2 columns"
   ]
  }
 ],
 "metadata": {
  "kernelspec": {
   "display_name": "Python 3 (ipykernel)",
   "language": "python",
   "name": "python3"
  },
  "language_info": {
   "codemirror_mode": {
    "name": "ipython",
    "version": 3
   },
   "file_extension": ".py",
   "mimetype": "text/x-python",
   "name": "python",
   "nbconvert_exporter": "python",
   "pygments_lexer": "ipython3",
   "version": "3.10.9"
  }
 },
 "nbformat": 4,
 "nbformat_minor": 5
}
