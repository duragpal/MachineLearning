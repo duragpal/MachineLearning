{
 "cells": [
  {
   "cell_type": "code",
   "execution_count": 3,
   "id": "151ac5bc",
   "metadata": {},
   "outputs": [],
   "source": [
    "import pandas as pd\n",
    "import numpy as np"
   ]
  },
  {
   "cell_type": "code",
   "execution_count": 7,
   "id": "3aa75116",
   "metadata": {},
   "outputs": [
    {
     "name": "stdout",
     "output_type": "stream",
     "text": [
      "0    55\n",
      "1    25\n",
      "2    75\n",
      "3    40\n",
      "4    90\n",
      "dtype: int64\n",
      "0    55\n",
      "1    25\n",
      "2    75\n",
      "3    40\n",
      "4    90\n",
      "dtype: int32\n"
     ]
    }
   ],
   "source": [
    "#list\n",
    "marks=[55,25,75,40,90] #cannot take set datatype\n",
    "#list to array\n",
    "marks_arr=np.array(marks)\n",
    "\n",
    "#convert list and array into Pandas series object\n",
    "series_list=pd.Series(marks)\n",
    "series_arr=pd.Series(marks_arr)\n",
    "\n",
    "#print\n",
    "print(series_list)\n",
    "print(series_arr)"
   ]
  },
  {
   "cell_type": "code",
   "execution_count": 11,
   "id": "825b95ae",
   "metadata": {},
   "outputs": [
    {
     "name": "stdout",
     "output_type": "stream",
     "text": [
      "A    55\n",
      "B    25\n",
      "C    75\n",
      "D    40\n",
      "E    90\n",
      "dtype: int64\n"
     ]
    }
   ],
   "source": [
    "#changing the index of a series\n",
    "label_series=pd.Series(marks,index=['A',\"B\",\"C\",\"D\",\"E\"]) #can take set here..\n",
    "print(label_series)"
   ]
  },
  {
   "cell_type": "code",
   "execution_count": 12,
   "id": "fbce5f69",
   "metadata": {},
   "outputs": [],
   "source": [
    "label_update=label_series+2.5"
   ]
  }
 ],
 "metadata": {
  "kernelspec": {
   "display_name": "Python 3 (ipykernel)",
   "language": "python",
   "name": "python3"
  },
  "language_info": {
   "codemirror_mode": {
    "name": "ipython",
    "version": 3
   },
   "file_extension": ".py",
   "mimetype": "text/x-python",
   "name": "python",
   "nbconvert_exporter": "python",
   "pygments_lexer": "ipython3",
   "version": "3.9.13"
  }
 },
 "nbformat": 4,
 "nbformat_minor": 5
}
