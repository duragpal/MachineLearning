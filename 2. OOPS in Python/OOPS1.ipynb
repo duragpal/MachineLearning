{
 "cells": [
  {
   "cell_type": "code",
   "execution_count": 2,
   "id": "00c69a94",
   "metadata": {},
   "outputs": [
    {
     "ename": "IndentationError",
     "evalue": "expected an indented block (3333115349.py, line 2)",
     "output_type": "error",
     "traceback": [
      "\u001b[1;36m  File \u001b[1;32m\"C:\\Users\\Lenovo\\AppData\\Local\\Temp\\ipykernel_16580\\3333115349.py\"\u001b[1;36m, line \u001b[1;32m2\u001b[0m\n\u001b[1;33m    \u001b[0m\n\u001b[1;37m    ^\u001b[0m\n\u001b[1;31mIndentationError\u001b[0m\u001b[1;31m:\u001b[0m expected an indented block\n"
     ]
    }
   ],
   "source": [
    "class test: \n",
    "    "
   ]
  },
  {
   "cell_type": "code",
   "execution_count": 5,
   "id": "82a6f5c5",
   "metadata": {},
   "outputs": [],
   "source": [
    "class test:\n",
    "    pass"
   ]
  },
  {
   "cell_type": "code",
   "execution_count": 8,
   "id": "87e95ad6",
   "metadata": {},
   "outputs": [
    {
     "name": "stdout",
     "output_type": "stream",
     "text": [
      "<class '__main__.test'>\n"
     ]
    }
   ],
   "source": [
    "a=test()\n",
    "print(type(a))"
   ]
  },
  {
   "cell_type": "code",
   "execution_count": 25,
   "id": "b4c56eea",
   "metadata": {},
   "outputs": [],
   "source": [
    "class platform:\n",
    "    def welcome_msg(self): #not writing self will give error. it is used to point that this function is in platform class.\n",
    "        print(\"Welcome to first class!\")"
   ]
  },
  {
   "cell_type": "code",
   "execution_count": 27,
   "id": "2df780b6",
   "metadata": {},
   "outputs": [
    {
     "data": {
      "text/plain": [
       "__main__.platform"
      ]
     },
     "execution_count": 27,
     "metadata": {},
     "output_type": "execute_result"
    }
   ],
   "source": [
    "train = platform()\n",
    "type(train)"
   ]
  },
  {
   "cell_type": "code",
   "execution_count": 30,
   "id": "881cd95a",
   "metadata": {},
   "outputs": [
    {
     "name": "stdout",
     "output_type": "stream",
     "text": [
      "Welcome to first class!\n"
     ]
    }
   ],
   "source": [
    "train.welcome_msg()"
   ]
  },
  {
   "cell_type": "code",
   "execution_count": 34,
   "id": "20f2550e",
   "metadata": {},
   "outputs": [],
   "source": [
    "gaurav=platform()"
   ]
  },
  {
   "cell_type": "code",
   "execution_count": 35,
   "id": "6fa91250",
   "metadata": {},
   "outputs": [
    {
     "name": "stdout",
     "output_type": "stream",
     "text": [
      "Welcome to first class!\n"
     ]
    }
   ],
   "source": [
    "gaurav.welcome_msg()"
   ]
  },
  {
   "cell_type": "code",
   "execution_count": 37,
   "id": "07580784",
   "metadata": {},
   "outputs": [],
   "source": [
    "class student:\n",
    "    def __init__(self,phone_no,email_id,student_id):#constructor -- to take arguments in class\n",
    "        self.phone_no=phone_no\n",
    "        self.email_id=email_id\n",
    "        self.student_id=student_id\n",
    "    def return_student_details(self):\n",
    "        return self.phone_no, self.email_id,self.student_id\n",
    "    "
   ]
  },
  {
   "cell_type": "code",
   "execution_count": 40,
   "id": "409a73fd",
   "metadata": {},
   "outputs": [
    {
     "ename": "TypeError",
     "evalue": "__init__() missing 3 required positional arguments: 'phone_no', 'email_id', and 'student_id'",
     "output_type": "error",
     "traceback": [
      "\u001b[1;31m---------------------------------------------------------------------------\u001b[0m",
      "\u001b[1;31mTypeError\u001b[0m                                 Traceback (most recent call last)",
      "\u001b[1;32m~\\AppData\\Local\\Temp\\ipykernel_16580\\2816209820.py\u001b[0m in \u001b[0;36m<module>\u001b[1;34m\u001b[0m\n\u001b[1;32m----> 1\u001b[1;33m \u001b[0mgaurav\u001b[0m\u001b[1;33m=\u001b[0m\u001b[0mstudent\u001b[0m\u001b[1;33m(\u001b[0m\u001b[1;33m)\u001b[0m\u001b[1;33m\u001b[0m\u001b[1;33m\u001b[0m\u001b[0m\n\u001b[0m",
      "\u001b[1;31mTypeError\u001b[0m: __init__() missing 3 required positional arguments: 'phone_no', 'email_id', and 'student_id'"
     ]
    }
   ],
   "source": [
    "gaurav=student() #Error"
   ]
  },
  {
   "cell_type": "code",
   "execution_count": 42,
   "id": "9e9994a4",
   "metadata": {},
   "outputs": [],
   "source": [
    "gaurav = student(9919191919,\"hi@gmail.com\",11)"
   ]
  },
  {
   "cell_type": "code",
   "execution_count": 44,
   "id": "1e364d18",
   "metadata": {},
   "outputs": [
    {
     "data": {
      "text/plain": [
       "(9919191919, 'hi@gmail.com', 11)"
      ]
     },
     "execution_count": 44,
     "metadata": {},
     "output_type": "execute_result"
    }
   ],
   "source": [
    "gaurav.return_student_details()"
   ]
  },
  {
   "cell_type": "code",
   "execution_count": 46,
   "id": "fbd5bc76",
   "metadata": {},
   "outputs": [],
   "source": [
    "ram=student(999191111,\"ram@gmail.com\",11)"
   ]
  },
  {
   "cell_type": "code",
   "execution_count": 49,
   "id": "8712b22a",
   "metadata": {},
   "outputs": [
    {
     "data": {
      "text/plain": [
       "(999191111, 'ram@gmail.com', 11)"
      ]
     },
     "execution_count": 49,
     "metadata": {},
     "output_type": "execute_result"
    }
   ],
   "source": [
    "ram.return_student_details()"
   ]
  },
  {
   "cell_type": "code",
   "execution_count": 51,
   "id": "b32851d3",
   "metadata": {},
   "outputs": [
    {
     "data": {
      "text/plain": [
       "'hi@gmail.com'"
      ]
     },
     "execution_count": 51,
     "metadata": {},
     "output_type": "execute_result"
    }
   ],
   "source": [
    "gaurav.email_id\n"
   ]
  },
  {
   "cell_type": "code",
   "execution_count": 53,
   "id": "7e94a62e",
   "metadata": {},
   "outputs": [
    {
     "data": {
      "text/plain": [
       "9919191919"
      ]
     },
     "execution_count": 53,
     "metadata": {},
     "output_type": "execute_result"
    }
   ],
   "source": [
    "gaurav.phone_no"
   ]
  },
  {
   "cell_type": "code",
   "execution_count": 55,
   "id": "6b33f0d0",
   "metadata": {},
   "outputs": [],
   "source": [
    "class student1:\n",
    "    def __init__(self,phone_no,email_id,student_id):#constructor -- to take arguments in class\n",
    "        self.phone_no1=phone_no\n",
    "        self.email_id1=email_id\n",
    "        self.student_id1=student_id\n",
    "    def return_student_details(self):\n",
    "        return self.phone_no, self.email_id,self.student_id"
   ]
  },
  {
   "cell_type": "code",
   "execution_count": 57,
   "id": "349e1f66",
   "metadata": {},
   "outputs": [],
   "source": [
    "ram=student1(999191111,\"ram@gmail.com\",11)"
   ]
  },
  {
   "cell_type": "code",
   "execution_count": 60,
   "id": "191105b2",
   "metadata": {},
   "outputs": [
    {
     "ename": "AttributeError",
     "evalue": "'student1' object has no attribute 'student_id'",
     "output_type": "error",
     "traceback": [
      "\u001b[1;31m---------------------------------------------------------------------------\u001b[0m",
      "\u001b[1;31mAttributeError\u001b[0m                            Traceback (most recent call last)",
      "\u001b[1;32m~\\AppData\\Local\\Temp\\ipykernel_16580\\2227478793.py\u001b[0m in \u001b[0;36m<module>\u001b[1;34m\u001b[0m\n\u001b[1;32m----> 1\u001b[1;33m \u001b[0mram\u001b[0m\u001b[1;33m.\u001b[0m\u001b[0mstudent_id\u001b[0m     \u001b[1;31m#ERRORR\u001b[0m\u001b[1;33m\u001b[0m\u001b[1;33m\u001b[0m\u001b[0m\n\u001b[0m",
      "\u001b[1;31mAttributeError\u001b[0m: 'student1' object has no attribute 'student_id'"
     ]
    }
   ],
   "source": [
    "ram.student_id     #ERRORR\n"
   ]
  },
  {
   "cell_type": "code",
   "execution_count": 62,
   "id": "ba2cbf8b",
   "metadata": {},
   "outputs": [
    {
     "data": {
      "text/plain": [
       "11"
      ]
     },
     "execution_count": 62,
     "metadata": {},
     "output_type": "execute_result"
    }
   ],
   "source": [
    "ram.student_id1 "
   ]
  },
  {
   "cell_type": "markdown",
   "id": "03cec2e7",
   "metadata": {},
   "source": [
    "Self is not reserved Keyword.. We can use any name to point to the class."
   ]
  }
 ],
 "metadata": {
  "kernelspec": {
   "display_name": "Python 3 (ipykernel)",
   "language": "python",
   "name": "python3"
  },
  "language_info": {
   "codemirror_mode": {
    "name": "ipython",
    "version": 3
   },
   "file_extension": ".py",
   "mimetype": "text/x-python",
   "name": "python",
   "nbconvert_exporter": "python",
   "pygments_lexer": "ipython3",
   "version": "3.9.13"
  }
 },
 "nbformat": 4,
 "nbformat_minor": 5
}
