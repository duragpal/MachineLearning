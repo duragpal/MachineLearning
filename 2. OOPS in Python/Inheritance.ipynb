{
 "cells": [
  {
   "cell_type": "code",
   "execution_count": 2,
   "id": "1597b9c5",
   "metadata": {},
   "outputs": [],
   "source": [
    "class test:\n",
    "    def test_meth(self):\n",
    "        return \"This is my first class..\""
   ]
  },
  {
   "cell_type": "code",
   "execution_count": 5,
   "id": "3780672a",
   "metadata": {},
   "outputs": [],
   "source": [
    "class child_test(test):\n",
    "    pass"
   ]
  },
  {
   "cell_type": "code",
   "execution_count": 7,
   "id": "d59c4e8c",
   "metadata": {},
   "outputs": [],
   "source": [
    "child_test_obj=child_test()"
   ]
  },
  {
   "cell_type": "code",
   "execution_count": 9,
   "id": "7b3e57a4",
   "metadata": {},
   "outputs": [
    {
     "data": {
      "text/plain": [
       "'This is my first class..'"
      ]
     },
     "execution_count": 9,
     "metadata": {},
     "output_type": "execute_result"
    }
   ],
   "source": [
    "child_test_obj.test_meth()"
   ]
  },
  {
   "cell_type": "markdown",
   "id": "c850de16",
   "metadata": {},
   "source": [
    "# Multi -LEvel Inheritance"
   ]
  },
  {
   "cell_type": "markdown",
   "id": "05dd840f",
   "metadata": {},
   "source": [
    "class 1 to class 2 then class 2 to class 3.. so class 3 inherits class 1 also....  "
   ]
  },
  {
   "cell_type": "code",
   "execution_count": 11,
   "id": "49373c55",
   "metadata": {},
   "outputs": [],
   "source": [
    "class class1:\n",
    "    def test_class1(self):\n",
    "        return \"This is a method from class1\""
   ]
  },
  {
   "cell_type": "code",
   "execution_count": 13,
   "id": "693df695",
   "metadata": {},
   "outputs": [],
   "source": [
    "class class2(class1):\n",
    "    def test_class2(self):\n",
    "        return \"This is a method from class2\""
   ]
  },
  {
   "cell_type": "code",
   "execution_count": 15,
   "id": "dd3ca6d4",
   "metadata": {},
   "outputs": [],
   "source": [
    "class class3(class2):\n",
    "    pass"
   ]
  },
  {
   "cell_type": "code",
   "execution_count": 17,
   "id": "6de9dc86",
   "metadata": {},
   "outputs": [],
   "source": [
    "class3_obj = class3()\n"
   ]
  },
  {
   "cell_type": "code",
   "execution_count": 20,
   "id": "7d87adcb",
   "metadata": {},
   "outputs": [
    {
     "name": "stdout",
     "output_type": "stream",
     "text": [
      "This is a method from class1\n",
      "This is a method from class2\n"
     ]
    }
   ],
   "source": [
    "print(class3_obj.test_class1())\n",
    "print(class3_obj.test_class2())"
   ]
  },
  {
   "cell_type": "markdown",
   "id": "fdb4cf24",
   "metadata": {},
   "source": [
    "# Multiple Inheritance"
   ]
  },
  {
   "cell_type": "markdown",
   "id": "fb5d9fbe",
   "metadata": {},
   "source": [
    "mother + father = child"
   ]
  },
  {
   "cell_type": "code",
   "execution_count": 32,
   "id": "b8c8a26a",
   "metadata": {},
   "outputs": [],
   "source": [
    "class class1:\n",
    "    def test_class1(self):\n",
    "        return \" Class 1\""
   ]
  },
  {
   "cell_type": "code",
   "execution_count": 33,
   "id": "76f7aeac",
   "metadata": {},
   "outputs": [],
   "source": [
    "class class2:\n",
    "    def test_class2(self):\n",
    "        return \"Class 2\""
   ]
  },
  {
   "cell_type": "code",
   "execution_count": 26,
   "id": "042eebf0",
   "metadata": {},
   "outputs": [],
   "source": [
    "class class3(class1, class2):\n",
    "    pass"
   ]
  },
  {
   "cell_type": "code",
   "execution_count": 34,
   "id": "fdec817f",
   "metadata": {},
   "outputs": [],
   "source": [
    "class3.obj=class3()"
   ]
  },
  {
   "cell_type": "code",
   "execution_count": 35,
   "id": "fe1a0527",
   "metadata": {},
   "outputs": [
    {
     "data": {
      "text/plain": [
       "'This is a method from class1'"
      ]
     },
     "execution_count": 35,
     "metadata": {},
     "output_type": "execute_result"
    }
   ],
   "source": [
    "class3_obj.test_class1()"
   ]
  },
  {
   "cell_type": "code",
   "execution_count": 36,
   "id": "ba77dd77",
   "metadata": {},
   "outputs": [
    {
     "data": {
      "text/plain": [
       "'This is a method from class2'"
      ]
     },
     "execution_count": 36,
     "metadata": {},
     "output_type": "execute_result"
    }
   ],
   "source": [
    "class3_obj.test_class2()"
   ]
  },
  {
   "cell_type": "code",
   "execution_count": null,
   "id": "3cc49d19",
   "metadata": {},
   "outputs": [],
   "source": []
  }
 ],
 "metadata": {
  "kernelspec": {
   "display_name": "Python 3 (ipykernel)",
   "language": "python",
   "name": "python3"
  },
  "language_info": {
   "codemirror_mode": {
    "name": "ipython",
    "version": 3
   },
   "file_extension": ".py",
   "mimetype": "text/x-python",
   "name": "python",
   "nbconvert_exporter": "python",
   "pygments_lexer": "ipython3",
   "version": "3.9.13"
  }
 },
 "nbformat": 4,
 "nbformat_minor": 5
}
