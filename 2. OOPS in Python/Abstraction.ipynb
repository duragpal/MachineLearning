{
 "cells": [
  {
   "cell_type": "code",
   "execution_count": 3,
   "id": "8dd41ece",
   "metadata": {},
   "outputs": [],
   "source": [
    "#To make a blueprint...\n",
    "import abc\n",
    "class college:\n",
    "    @abc.abstractmethod\n",
    "    def students_details(self):\n",
    "        pass\n",
    "    @abc.abstractmethod\n",
    "    def student_marks(self):\n",
    "        pass\n",
    "    @abc.abstractmethod\n",
    "    def student_assignments(self):\n",
    "        pass\n",
    "    "
   ]
  },
  {
   "cell_type": "code",
   "execution_count": 5,
   "id": "63ac9f00",
   "metadata": {},
   "outputs": [],
   "source": [
    "class student_details(college):\n",
    "    def students_details(self):\n",
    "        return \"This is method for taking student details..\"\n",
    "    def students_assignments(self):\n",
    "        return \"This is method for assigning details for the particular student...\""
   ]
  },
  {
   "cell_type": "code",
   "execution_count": 9,
   "id": "7495669a",
   "metadata": {},
   "outputs": [],
   "source": [
    "class engineering(college):\n",
    "    def student_details(self):\n",
    "        return \"This will give u student details for engineering dept.\"\n",
    "    def student_assignments(self):\n",
    "        return \"This will give u student assignments for engineering dept.\""
   ]
  },
  {
   "cell_type": "code",
   "execution_count": 13,
   "id": "64ff22f8",
   "metadata": {},
   "outputs": [
    {
     "data": {
      "text/plain": [
       "'This is method for taking student details..'"
      ]
     },
     "execution_count": 13,
     "metadata": {},
     "output_type": "execute_result"
    }
   ],
   "source": [
    "sd=student_details()\n",
    "sd.students_details()"
   ]
  },
  {
   "cell_type": "code",
   "execution_count": 15,
   "id": "15ce59bf",
   "metadata": {},
   "outputs": [],
   "source": [
    "engg=engineering()"
   ]
  },
  {
   "cell_type": "code",
   "execution_count": 16,
   "id": "fe5f104c",
   "metadata": {},
   "outputs": [
    {
     "data": {
      "text/plain": [
       "'This will give u student details for engineering dept.'"
      ]
     },
     "execution_count": 16,
     "metadata": {},
     "output_type": "execute_result"
    }
   ],
   "source": [
    "engg.student_details()"
   ]
  }
 ],
 "metadata": {
  "kernelspec": {
   "display_name": "Python 3 (ipykernel)",
   "language": "python",
   "name": "python3"
  },
  "language_info": {
   "codemirror_mode": {
    "name": "ipython",
    "version": 3
   },
   "file_extension": ".py",
   "mimetype": "text/x-python",
   "name": "python",
   "nbconvert_exporter": "python",
   "pygments_lexer": "ipython3",
   "version": "3.9.13"
  }
 },
 "nbformat": 4,
 "nbformat_minor": 5
}
