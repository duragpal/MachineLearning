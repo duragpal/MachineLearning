{
 "cells": [
  {
   "cell_type": "code",
   "execution_count": 2,
   "id": "c93258c4",
   "metadata": {},
   "outputs": [],
   "source": [
    "def test(a,b):\n",
    "    return(a+b)"
   ]
  },
  {
   "cell_type": "code",
   "execution_count": 6,
   "id": "a5ebfc8f",
   "metadata": {},
   "outputs": [
    {
     "name": "stdout",
     "output_type": "stream",
     "text": [
      "11\n"
     ]
    }
   ],
   "source": [
    "print(test(5,6)) #Addition "
   ]
  },
  {
   "cell_type": "markdown",
   "id": "670df90a",
   "metadata": {},
   "source": [
    "Polymorphism:-- change in behaviour in different environments"
   ]
  },
  {
   "cell_type": "code",
   "execution_count": 8,
   "id": "d569478b",
   "metadata": {},
   "outputs": [
    {
     "name": "stdout",
     "output_type": "stream",
     "text": [
      "DuragPal\n"
     ]
    }
   ],
   "source": [
    "print(test(\"Durag\",\"Pal\")) #String Concatenation"
   ]
  },
  {
   "cell_type": "markdown",
   "id": "903871f6",
   "metadata": {},
   "source": [
    "# Polymorphism using class"
   ]
  },
  {
   "cell_type": "code",
   "execution_count": 29,
   "id": "f46df37b",
   "metadata": {},
   "outputs": [],
   "source": [
    "class data_science:\n",
    "    def syllabus(self):\n",
    "        print(\"This is the syllabus of data Science course.\")"
   ]
  },
  {
   "cell_type": "code",
   "execution_count": 28,
   "id": "3dc16f19",
   "metadata": {},
   "outputs": [],
   "source": [
    "class web_dev:\n",
    "    def syllabus(self):\n",
    "        print(\"This is the syllabus of Web Development course.\")"
   ]
  },
  {
   "cell_type": "code",
   "execution_count": 22,
   "id": "6ef7d67b",
   "metadata": {},
   "outputs": [],
   "source": [
    "def class_parcer(class_obj):\n",
    "    for i in class_obj:\n",
    "        i.syllabus()"
   ]
  },
  {
   "cell_type": "code",
   "execution_count": 30,
   "id": "6fdba9e1",
   "metadata": {},
   "outputs": [],
   "source": [
    "data_science=data_science()"
   ]
  },
  {
   "cell_type": "code",
   "execution_count": 31,
   "id": "0a167f89",
   "metadata": {},
   "outputs": [],
   "source": [
    "web_dev = web_dev()"
   ]
  },
  {
   "cell_type": "code",
   "execution_count": 33,
   "id": "f6de85c8",
   "metadata": {},
   "outputs": [],
   "source": [
    "class_obj=[data_science,web_dev]"
   ]
  },
  {
   "cell_type": "code",
   "execution_count": 34,
   "id": "699ec546",
   "metadata": {},
   "outputs": [
    {
     "name": "stdout",
     "output_type": "stream",
     "text": [
      "This is the syllabus of data Science course.\n",
      "This is the syllabus of Web Development course.\n"
     ]
    }
   ],
   "source": [
    "class_parcer(class_obj)"
   ]
  }
 ],
 "metadata": {
  "kernelspec": {
   "display_name": "Python 3 (ipykernel)",
   "language": "python",
   "name": "python3"
  },
  "language_info": {
   "codemirror_mode": {
    "name": "ipython",
    "version": 3
   },
   "file_extension": ".py",
   "mimetype": "text/x-python",
   "name": "python",
   "nbconvert_exporter": "python",
   "pygments_lexer": "ipython3",
   "version": "3.9.13"
  }
 },
 "nbformat": 4,
 "nbformat_minor": 5
}
