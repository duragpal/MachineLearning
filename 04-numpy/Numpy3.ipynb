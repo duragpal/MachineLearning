{
 "cells": [
  {
   "cell_type": "markdown",
   "id": "7b8d1d75",
   "metadata": {},
   "source": [
    "#### Modifying the entries of an Array:"
   ]
  },
  {
   "cell_type": "code",
   "execution_count": 3,
   "id": "dcd589cb",
   "metadata": {},
   "outputs": [
    {
     "data": {
      "text/plain": [
       "array([ 0.33606763,  0.50604654, -0.16965599,  1.24152307, -0.59439062,\n",
       "       -0.94630727, -0.78128156,  0.87242161, -0.8703773 ,  0.32608222])"
      ]
     },
     "execution_count": 3,
     "metadata": {},
     "output_type": "execute_result"
    }
   ],
   "source": [
    "import numpy as np\n",
    "r_arr=np.random.randn(10)\n",
    "r_arr"
   ]
  },
  {
   "cell_type": "code",
   "execution_count": 5,
   "id": "6c12cb5e",
   "metadata": {
    "scrolled": false
   },
   "outputs": [
    {
     "data": {
      "text/plain": [
       "array([ 1.24152307, -0.59439062])"
      ]
     },
     "execution_count": 5,
     "metadata": {},
     "output_type": "execute_result"
    }
   ],
   "source": [
    "r_arr[3:5]"
   ]
  },
  {
   "cell_type": "code",
   "execution_count": 9,
   "id": "bce6ff8c",
   "metadata": {},
   "outputs": [
    {
     "data": {
      "text/plain": [
       "array([ 0.33606763,  0.50604654, -0.16965599,  5.        ,  5.        ,\n",
       "       -0.94630727, -0.78128156,  0.87242161, -0.8703773 ,  0.32608222])"
      ]
     },
     "execution_count": 9,
     "metadata": {},
     "output_type": "execute_result"
    }
   ],
   "source": [
    "r_arr[3:5]=5\n",
    "r_arr"
   ]
  },
  {
   "cell_type": "code",
   "execution_count": 11,
   "id": "d56172d5",
   "metadata": {},
   "outputs": [
    {
     "data": {
      "text/plain": [
       "array([65.        , 65.        , -0.16965599, 65.        , 65.        ,\n",
       "       -0.94630727, -0.78128156, 65.        , -0.8703773 , 65.        ])"
      ]
     },
     "execution_count": 11,
     "metadata": {},
     "output_type": "execute_result"
    }
   ],
   "source": [
    "#Using Conditional Operators\n",
    "r_arr[r_arr>0]=65\n",
    "r_arr"
   ]
  },
  {
   "cell_type": "markdown",
   "id": "78b245ca",
   "metadata": {},
   "source": [
    "#### Modifying matrix entries:"
   ]
  },
  {
   "cell_type": "code",
   "execution_count": 13,
   "id": "acf6adab",
   "metadata": {},
   "outputs": [
    {
     "data": {
      "text/plain": [
       "array([[ 0.0678149 , -0.95597168,  1.29585428, -1.09825941, -1.51951756],\n",
       "       [ 1.5314087 , -1.77544629,  0.24008597, -0.05201493,  0.33295861],\n",
       "       [ 0.18841048, -1.07135991,  2.11775234,  0.92028114, -0.31896568],\n",
       "       [-0.38199692, -0.36609935,  0.82461411,  0.99952588, -1.87515869],\n",
       "       [ 0.9213011 ,  0.46086007,  0.6208231 , -1.53410325, -0.11955657]])"
      ]
     },
     "execution_count": 13,
     "metadata": {},
     "output_type": "execute_result"
    }
   ],
   "source": [
    "r_mat=np.random.randn(5,5)\n",
    "r_mat"
   ]
  },
  {
   "cell_type": "code",
   "execution_count": 15,
   "id": "4b761d09",
   "metadata": {},
   "outputs": [
    {
     "data": {
      "text/plain": [
       "array([[-0.05201493,  0.33295861],\n",
       "       [ 0.92028114, -0.31896568]])"
      ]
     },
     "execution_count": 15,
     "metadata": {},
     "output_type": "execute_result"
    }
   ],
   "source": [
    "r_mat[1:3,3:5]"
   ]
  },
  {
   "cell_type": "code",
   "execution_count": 17,
   "id": "53c84034",
   "metadata": {},
   "outputs": [
    {
     "data": {
      "text/plain": [
       "array([[ 0.0678149 , -0.95597168,  1.29585428, -1.09825941, -1.51951756],\n",
       "       [ 1.5314087 , -1.77544629,  0.24008597,  0.        ,  0.        ],\n",
       "       [ 0.18841048, -1.07135991,  2.11775234,  0.        ,  0.        ],\n",
       "       [-0.38199692, -0.36609935,  0.82461411,  0.99952588, -1.87515869],\n",
       "       [ 0.9213011 ,  0.46086007,  0.6208231 , -1.53410325, -0.11955657]])"
      ]
     },
     "execution_count": 17,
     "metadata": {},
     "output_type": "execute_result"
    }
   ],
   "source": [
    "r_mat[1:3,3:5]=0\n",
    "r_mat"
   ]
  },
  {
   "cell_type": "markdown",
   "id": "c8d244e1",
   "metadata": {},
   "source": [
    "#### Extracting Sub Matrix:"
   ]
  },
  {
   "cell_type": "code",
   "execution_count": 19,
   "id": "edd37aa8",
   "metadata": {},
   "outputs": [
    {
     "data": {
      "text/plain": [
       "array([[ 1.69110618, -1.18547833, -0.82956819,  1.51362626,  0.06333075],\n",
       "       [ 0.19479929,  1.36239143, -0.10766189,  1.19267836,  1.70435053],\n",
       "       [ 0.78515282, -1.34683462, -0.64298425, -0.14469498, -0.64419437],\n",
       "       [-0.17081748, -0.58683114,  0.38959471, -1.71805495,  0.12769136],\n",
       "       [ 0.07546269,  0.14443752, -0.33837318, -0.03996096,  0.46338412]])"
      ]
     },
     "execution_count": 19,
     "metadata": {},
     "output_type": "execute_result"
    }
   ],
   "source": [
    "r_mat=np.random.randn(5,5)\n",
    "r_mat"
   ]
  },
  {
   "cell_type": "code",
   "execution_count": 21,
   "id": "4fddbfa4",
   "metadata": {},
   "outputs": [
    {
     "data": {
      "text/plain": [
       "array([[ 1.69110618, -1.18547833, -0.82956819],\n",
       "       [ 0.19479929,  1.36239143, -0.10766189]])"
      ]
     },
     "execution_count": 21,
     "metadata": {},
     "output_type": "execute_result"
    }
   ],
   "source": [
    "#extract first 2 rows and first 3 columns\n",
    "sub_mat=r_mat[0:2,0:3]\n",
    "sub_mat"
   ]
  },
  {
   "cell_type": "code",
   "execution_count": 23,
   "id": "20b48337",
   "metadata": {},
   "outputs": [
    {
     "data": {
      "text/plain": [
       "array([[3., 3., 3.],\n",
       "       [3., 3., 3.]])"
      ]
     },
     "execution_count": 23,
     "metadata": {},
     "output_type": "execute_result"
    }
   ],
   "source": [
    "#changing all values of extracted matrix to 3\n",
    "sub_mat[:]=3\n",
    "sub_mat"
   ]
  },
  {
   "cell_type": "code",
   "execution_count": 25,
   "id": "57f39dca",
   "metadata": {},
   "outputs": [
    {
     "data": {
      "text/plain": [
       "array([[ 3.        ,  3.        ,  3.        ,  1.51362626,  0.06333075],\n",
       "       [ 3.        ,  3.        ,  3.        ,  1.19267836,  1.70435053],\n",
       "       [ 0.78515282, -1.34683462, -0.64298425, -0.14469498, -0.64419437],\n",
       "       [-0.17081748, -0.58683114,  0.38959471, -1.71805495,  0.12769136],\n",
       "       [ 0.07546269,  0.14443752, -0.33837318, -0.03996096,  0.46338412]])"
      ]
     },
     "execution_count": 25,
     "metadata": {},
     "output_type": "execute_result"
    }
   ],
   "source": [
    "r_mat"
   ]
  },
  {
   "cell_type": "code",
   "execution_count": 29,
   "id": "8f685e91",
   "metadata": {},
   "outputs": [
    {
     "name": "stdout",
     "output_type": "stream",
     "text": [
      "[[-0.17062931 -0.2131109   0.61604318  0.57571321 -0.5736451 ]\n",
      " [-0.15251616 -0.05758903 -1.44294849 -0.52018385 -0.61204934]\n",
      " [ 0.88403746  1.45920659 -0.3653071  -0.80561101 -0.36503424]\n",
      " [-1.01388551  0.69755423 -0.06209822  0.53672134  0.42177586]\n",
      " [-1.6307196  -0.37877639 -0.02541282 -1.21367234 -1.0720727 ]] \n",
      "\n",
      "[[-0.17062931 -0.2131109   0.61604318]\n",
      " [-0.15251616 -0.05758903 -1.44294849]] \n",
      "\n",
      "[[3. 3. 3.]\n",
      " [3. 3. 3.]] \n",
      "\n",
      "[[-0.17062931 -0.2131109   0.61604318  0.57571321 -0.5736451 ]\n",
      " [-0.15251616 -0.05758903 -1.44294849 -0.52018385 -0.61204934]\n",
      " [ 0.88403746  1.45920659 -0.3653071  -0.80561101 -0.36503424]\n",
      " [-1.01388551  0.69755423 -0.06209822  0.53672134  0.42177586]\n",
      " [-1.6307196  -0.37877639 -0.02541282 -1.21367234 -1.0720727 ]] \n",
      "\n"
     ]
    }
   ],
   "source": [
    "#To prevent this. we make a copy of array using .copy() function\n",
    "r_mat=np.random.randn(5,5)\n",
    "print(r_mat,\"\\n\")\n",
    "sub_mat=r_mat[0:2,0:3].copy()\n",
    "print(sub_mat,\"\\n\")\n",
    "sub_mat[:]=3\n",
    "print(sub_mat,\"\\n\")\n",
    "print(r_mat,\"\\n\")"
   ]
  },
  {
   "cell_type": "markdown",
   "id": "432d499f",
   "metadata": {},
   "source": [
    "# Saving and Loading In Numpy:"
   ]
  },
  {
   "cell_type": "code",
   "execution_count": 33,
   "id": "7f56214d",
   "metadata": {},
   "outputs": [
    {
     "name": "stdout",
     "output_type": "stream",
     "text": [
      "[[5 3 8 3 9]\n",
      " [6 3 6 3 8]]\n",
      "\n",
      "[[9 2 9 2 2]\n",
      " [8 2 2 4 8]]\n"
     ]
    }
   ],
   "source": [
    "#Creating a random matrix\n",
    "r_mat1=np.random.randint(1,10,10).reshape(2,5)\n",
    "print(r_mat1)\n",
    "print(\"\")\n",
    "r_mat2=np.random.randint(1,10,10).reshape(2,5)\n",
    "print(r_mat2)"
   ]
  },
  {
   "cell_type": "markdown",
   "id": "9b1bc9a5",
   "metadata": {},
   "source": [
    "#### Using np.save() function"
   ]
  },
  {
   "cell_type": "code",
   "execution_count": 35,
   "id": "274c1433",
   "metadata": {},
   "outputs": [
    {
     "data": {
      "text/plain": [
       "'C:\\\\Users\\\\Administrator'"
      ]
     },
     "execution_count": 35,
     "metadata": {},
     "output_type": "execute_result"
    }
   ],
   "source": [
    "import os\n",
    "os.getcwd()"
   ]
  },
  {
   "cell_type": "code",
   "execution_count": 37,
   "id": "7af56b3b",
   "metadata": {},
   "outputs": [],
   "source": [
    "np.save(\"numpymat1\",r_mat1)"
   ]
  },
  {
   "cell_type": "markdown",
   "id": "d11bda7f",
   "metadata": {},
   "source": [
    "#### Using np.savez() function:"
   ]
  },
  {
   "cell_type": "code",
   "execution_count": 42,
   "id": "0c0d3a6a",
   "metadata": {},
   "outputs": [],
   "source": [
    "np.savez(\"multiplefile\",r_mat1=r_mat1,r_mat2=r_mat2)"
   ]
  },
  {
   "cell_type": "code",
   "execution_count": 45,
   "id": "da48bc86",
   "metadata": {},
   "outputs": [
    {
     "name": "stdout",
     "output_type": "stream",
     "text": [
      "[[5 3 8 3 9]\n",
      " [6 3 6 3 8]]\n",
      "\n",
      "<numpy.lib.npyio.NpzFile object at 0x000001ECFE5B8160>\n"
     ]
    }
   ],
   "source": [
    "loadarr=np.load(\"numpymat1.npy\")\n",
    "print(loadarr)\n",
    "print(\"\")\n",
    "loadarr2=np.load(\"multiplefile.npz\")\n",
    "print(loadarr2)"
   ]
  },
  {
   "cell_type": "code",
   "execution_count": 47,
   "id": "c8d1d74d",
   "metadata": {},
   "outputs": [],
   "source": [
    "#npz file returns the address of memory location."
   ]
  },
  {
   "cell_type": "code",
   "execution_count": 49,
   "id": "a3b8a538",
   "metadata": {},
   "outputs": [
    {
     "data": {
      "text/plain": [
       "array([[5, 3, 8, 3, 9],\n",
       "       [6, 3, 6, 3, 8]])"
      ]
     },
     "execution_count": 49,
     "metadata": {},
     "output_type": "execute_result"
    }
   ],
   "source": [
    "loadarr2[\"r_mat1\"]"
   ]
  },
  {
   "cell_type": "code",
   "execution_count": 50,
   "id": "d7135337",
   "metadata": {},
   "outputs": [
    {
     "data": {
      "text/plain": [
       "array([[9, 2, 9, 2, 2],\n",
       "       [8, 2, 2, 4, 8]])"
      ]
     },
     "execution_count": 50,
     "metadata": {},
     "output_type": "execute_result"
    }
   ],
   "source": [
    "loadarr2[\"r_mat2\"]"
   ]
  }
 ],
 "metadata": {
  "kernelspec": {
   "display_name": "Python 3",
   "language": "python",
   "name": "python3"
  },
  "language_info": {
   "codemirror_mode": {
    "name": "ipython",
    "version": 3
   },
   "file_extension": ".py",
   "mimetype": "text/x-python",
   "name": "python",
   "nbconvert_exporter": "python",
   "pygments_lexer": "ipython3",
   "version": "3.8.8"
  }
 },
 "nbformat": 4,
 "nbformat_minor": 5
}
