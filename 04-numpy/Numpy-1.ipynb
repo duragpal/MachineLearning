{
 "cells": [
  {
   "cell_type": "markdown",
   "id": "1d504277",
   "metadata": {},
   "source": [
    "# Numpy"
   ]
  },
  {
   "cell_type": "code",
   "execution_count": 2,
   "id": "12daf51c",
   "metadata": {},
   "outputs": [],
   "source": [
    "import numpy as np"
   ]
  },
  {
   "cell_type": "code",
   "execution_count": 4,
   "id": "9fe37d41",
   "metadata": {},
   "outputs": [],
   "source": [
    "str_ar=[\"mercedes\",6,\"Audi\",\"Ferrari\",\"Tesla\"]\n",
    "num_ar=[5,1,2,3,4,5]"
   ]
  },
  {
   "cell_type": "code",
   "execution_count": 6,
   "id": "68f283ea",
   "metadata": {},
   "outputs": [
    {
     "name": "stdout",
     "output_type": "stream",
     "text": [
      "['mercedes', 6, 'Audi', 'Ferrari', 'Tesla']\n",
      "[5, 1, 2, 3, 4, 5]\n"
     ]
    }
   ],
   "source": [
    "print(str_ar)\n",
    "print(num_ar)"
   ]
  },
  {
   "cell_type": "code",
   "execution_count": 9,
   "id": "b5fd7e5c",
   "metadata": {},
   "outputs": [],
   "source": [
    "np_strar=np.array(str_ar)\n",
    "np_numar=np.array(num_ar)"
   ]
  },
  {
   "cell_type": "code",
   "execution_count": 12,
   "id": "667f3a53",
   "metadata": {},
   "outputs": [
    {
     "name": "stdout",
     "output_type": "stream",
     "text": [
      "['mercedes' '6' 'Audi' 'Ferrari' 'Tesla']\n",
      "[5 1 2 3 4 5]\n"
     ]
    }
   ],
   "source": [
    "print(np_strar)\n",
    "print(np_numar)"
   ]
  },
  {
   "cell_type": "code",
   "execution_count": 14,
   "id": "3b643913",
   "metadata": {},
   "outputs": [
    {
     "data": {
      "text/plain": [
       "numpy.ndarray"
      ]
     },
     "execution_count": 14,
     "metadata": {},
     "output_type": "execute_result"
    }
   ],
   "source": [
    "type(np_strar)"
   ]
  },
  {
   "cell_type": "code",
   "execution_count": 17,
   "id": "3b51e0f6",
   "metadata": {},
   "outputs": [
    {
     "data": {
      "text/plain": [
       "array([[1, 2, 1],\n",
       "       [4, 5, 9],\n",
       "       [1, 8, 9]])"
      ]
     },
     "execution_count": 17,
     "metadata": {},
     "output_type": "execute_result"
    }
   ],
   "source": [
    "#MATRIX\n",
    "matrix1=np.array([[1,2,1],[4,5,9],[1,8,9]])\n",
    "matrix1"
   ]
  },
  {
   "cell_type": "code",
   "execution_count": 19,
   "id": "1cd5b3c8",
   "metadata": {},
   "outputs": [
    {
     "data": {
      "text/plain": [
       "(3, 3)"
      ]
     },
     "execution_count": 19,
     "metadata": {},
     "output_type": "execute_result"
    }
   ],
   "source": [
    "matrix1.shape\n"
   ]
  },
  {
   "cell_type": "markdown",
   "id": "db49a8b6",
   "metadata": {},
   "source": [
    "# Numpy Functions"
   ]
  },
  {
   "cell_type": "markdown",
   "id": "ac78c801",
   "metadata": {},
   "source": [
    "#### 1: np.arange()"
   ]
  },
  {
   "cell_type": "code",
   "execution_count": 24,
   "id": "2ca7d4fc",
   "metadata": {},
   "outputs": [
    {
     "name": "stdout",
     "output_type": "stream",
     "text": [
      "[0 1 2 3 4 5 6 7 8 9]\n"
     ]
    }
   ],
   "source": [
    "arr2=np.arange(0,10)\n",
    "print(arr2)"
   ]
  },
  {
   "cell_type": "code",
   "execution_count": 27,
   "id": "d6dc33e4",
   "metadata": {},
   "outputs": [
    {
     "name": "stdout",
     "output_type": "stream",
     "text": [
      "[0 2 4 6 8]\n"
     ]
    }
   ],
   "source": [
    "arr2=np.arange(0,10,2)\n",
    "print(arr2)"
   ]
  },
  {
   "cell_type": "markdown",
   "id": "5c0b9b20",
   "metadata": {},
   "source": [
    "#### 2: np.linspace()"
   ]
  },
  {
   "cell_type": "code",
   "execution_count": 29,
   "id": "1ca71fd5",
   "metadata": {},
   "outputs": [
    {
     "data": {
      "text/plain": [
       "array([ 0.        ,  0.20408163,  0.40816327,  0.6122449 ,  0.81632653,\n",
       "        1.02040816,  1.2244898 ,  1.42857143,  1.63265306,  1.83673469,\n",
       "        2.04081633,  2.24489796,  2.44897959,  2.65306122,  2.85714286,\n",
       "        3.06122449,  3.26530612,  3.46938776,  3.67346939,  3.87755102,\n",
       "        4.08163265,  4.28571429,  4.48979592,  4.69387755,  4.89795918,\n",
       "        5.10204082,  5.30612245,  5.51020408,  5.71428571,  5.91836735,\n",
       "        6.12244898,  6.32653061,  6.53061224,  6.73469388,  6.93877551,\n",
       "        7.14285714,  7.34693878,  7.55102041,  7.75510204,  7.95918367,\n",
       "        8.16326531,  8.36734694,  8.57142857,  8.7755102 ,  8.97959184,\n",
       "        9.18367347,  9.3877551 ,  9.59183673,  9.79591837, 10.        ])"
      ]
     },
     "execution_count": 29,
     "metadata": {},
     "output_type": "execute_result"
    }
   ],
   "source": [
    "matrix2=np.linspace(0,10)\n",
    "matrix2"
   ]
  },
  {
   "cell_type": "code",
   "execution_count": 32,
   "id": "c7d6657c",
   "metadata": {},
   "outputs": [
    {
     "data": {
      "text/plain": [
       "array([11., 12., 13., 14., 15., 16., 17., 18., 19., 20.])"
      ]
     },
     "execution_count": 32,
     "metadata": {},
     "output_type": "execute_result"
    }
   ],
   "source": [
    "matrix3=np.linspace(11,20,10)\n",
    "matrix3"
   ]
  },
  {
   "cell_type": "markdown",
   "id": "e2b3c25f",
   "metadata": {},
   "source": [
    "#### 3: np.zeros()"
   ]
  },
  {
   "cell_type": "code",
   "execution_count": 34,
   "id": "347f8398",
   "metadata": {},
   "outputs": [
    {
     "data": {
      "text/plain": [
       "array([[0., 0., 0.],\n",
       "       [0., 0., 0.],\n",
       "       [0., 0., 0.],\n",
       "       [0., 0., 0.],\n",
       "       [0., 0., 0.]])"
      ]
     },
     "execution_count": 34,
     "metadata": {},
     "output_type": "execute_result"
    }
   ],
   "source": [
    "matrix4=np.zeros([5,3])\n",
    "matrix4"
   ]
  },
  {
   "cell_type": "markdown",
   "id": "d5a1f97f",
   "metadata": {},
   "source": [
    "#### 4: np.ones()"
   ]
  },
  {
   "cell_type": "code",
   "execution_count": 37,
   "id": "06851dbb",
   "metadata": {},
   "outputs": [
    {
     "data": {
      "text/plain": [
       "array([[1., 1., 1., 1., 1.],\n",
       "       [1., 1., 1., 1., 1.],\n",
       "       [1., 1., 1., 1., 1.]])"
      ]
     },
     "execution_count": 37,
     "metadata": {},
     "output_type": "execute_result"
    }
   ],
   "source": [
    "matrix5=np.ones([3,5])\n",
    "matrix5"
   ]
  },
  {
   "cell_type": "markdown",
   "id": "dafe0e6b",
   "metadata": {},
   "source": [
    "#### 5: np.eye()"
   ]
  },
  {
   "cell_type": "code",
   "execution_count": 41,
   "id": "8e32c89c",
   "metadata": {},
   "outputs": [
    {
     "data": {
      "text/plain": [
       "array([[1., 0., 0., 0., 0.],\n",
       "       [0., 1., 0., 0., 0.],\n",
       "       [0., 0., 1., 0., 0.],\n",
       "       [0., 0., 0., 1., 0.],\n",
       "       [0., 0., 0., 0., 1.]])"
      ]
     },
     "execution_count": 41,
     "metadata": {},
     "output_type": "execute_result"
    }
   ],
   "source": [
    "matrix6=np.eye(5)\n",
    "matrix6"
   ]
  }
 ],
 "metadata": {
  "kernelspec": {
   "display_name": "Python 3",
   "language": "python",
   "name": "python3"
  },
  "language_info": {
   "codemirror_mode": {
    "name": "ipython",
    "version": 3
   },
   "file_extension": ".py",
   "mimetype": "text/x-python",
   "name": "python",
   "nbconvert_exporter": "python",
   "pygments_lexer": "ipython3",
   "version": "3.8.8"
  }
 },
 "nbformat": 4,
 "nbformat_minor": 5
}
