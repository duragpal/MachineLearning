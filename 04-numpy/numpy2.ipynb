{
 "cells": [
  {
   "cell_type": "code",
   "execution_count": null,
   "id": "786ee052",
   "metadata": {},
   "outputs": [],
   "source": [
    "import numpy as np"
   ]
  },
  {
   "cell_type": "code",
   "execution_count": null,
   "id": "94506e17",
   "metadata": {},
   "outputs": [],
   "source": [
    "arr4=np.arange(10)\n",
    "arr4"
   ]
  },
  {
   "cell_type": "markdown",
   "id": "64ac7b28",
   "metadata": {},
   "source": [
    "##### 6: np.reshape() method"
   ]
  },
  {
   "cell_type": "code",
   "execution_count": 10,
   "id": "1bfb2e9c",
   "metadata": {},
   "outputs": [
    {
     "data": {
      "text/plain": [
       "array([[0, 1],\n",
       "       [2, 3],\n",
       "       [4, 5],\n",
       "       [6, 7],\n",
       "       [8, 9]])"
      ]
     },
     "execution_count": 10,
     "metadata": {},
     "output_type": "execute_result"
    }
   ],
   "source": [
    "arr4_reshape=arr4.reshape((5,2))\n",
    "arr4_reshape"
   ]
  },
  {
   "cell_type": "code",
   "execution_count": 12,
   "id": "2e9cf05e",
   "metadata": {},
   "outputs": [
    {
     "data": {
      "text/plain": [
       "(5, 2)"
      ]
     },
     "execution_count": 12,
     "metadata": {},
     "output_type": "execute_result"
    }
   ],
   "source": [
    "arr4_reshape.shape"
   ]
  },
  {
   "cell_type": "code",
   "execution_count": 13,
   "id": "703ebd53",
   "metadata": {},
   "outputs": [
    {
     "ename": "TypeError",
     "evalue": "'numpy.ndarray' object is not callable",
     "output_type": "error",
     "traceback": [
      "\u001b[1;31m---------------------------------------------------------------------------\u001b[0m",
      "\u001b[1;31mTypeError\u001b[0m                                 Traceback (most recent call last)",
      "\u001b[1;32m~\\AppData\\Local\\Temp\\ipykernel_1900\\560012536.py\u001b[0m in \u001b[0;36m<module>\u001b[1;34m\u001b[0m\n\u001b[0;32m      1\u001b[0m \u001b[1;31m#Error because of lacking elements in an array\u001b[0m\u001b[1;33m\u001b[0m\u001b[1;33m\u001b[0m\u001b[0m\n\u001b[1;32m----> 2\u001b[1;33m \u001b[0marr4_reshape\u001b[0m\u001b[1;33m(\u001b[0m\u001b[1;33m(\u001b[0m\u001b[1;36m10\u001b[0m\u001b[1;33m,\u001b[0m\u001b[1;36m2\u001b[0m\u001b[1;33m)\u001b[0m\u001b[1;33m)\u001b[0m\u001b[1;33m\u001b[0m\u001b[1;33m\u001b[0m\u001b[0m\n\u001b[0m",
      "\u001b[1;31mTypeError\u001b[0m: 'numpy.ndarray' object is not callable"
     ]
    }
   ],
   "source": [
    "#Error because of lacking elements in an array\n",
    "arr4_reshape((10,2))"
   ]
  },
  {
   "cell_type": "markdown",
   "id": "0ce2cb1f",
   "metadata": {},
   "source": [
    "### Operations on array:-"
   ]
  },
  {
   "cell_type": "code",
   "execution_count": 26,
   "id": "13a1ccc1",
   "metadata": {},
   "outputs": [
    {
     "name": "stdout",
     "output_type": "stream",
     "text": [
      "[1, 2, 3, 4, 5, 6]\n"
     ]
    }
   ],
   "source": [
    "list1=[1,2,3]  #concatenation of list\n",
    "list2=[4,5,6]\n",
    "print(list1+list2)"
   ]
  },
  {
   "cell_type": "code",
   "execution_count": 18,
   "id": "8ca0a532",
   "metadata": {},
   "outputs": [
    {
     "data": {
      "text/plain": [
       "array([5, 7, 9])"
      ]
     },
     "execution_count": 18,
     "metadata": {},
     "output_type": "execute_result"
    }
   ],
   "source": [
    "np.array(list1)+np.array(list2)"
   ]
  },
  {
   "cell_type": "code",
   "execution_count": 21,
   "id": "a30d8399",
   "metadata": {},
   "outputs": [
    {
     "name": "stdout",
     "output_type": "stream",
     "text": [
      "[1, 2, 3, 1, 2, 3, 1, 2, 3]\n",
      "[3 6 9]\n"
     ]
    }
   ],
   "source": [
    "print(list1*3)\n",
    "print(np.array(list1)*3)"
   ]
  },
  {
   "cell_type": "code",
   "execution_count": 24,
   "id": "2f276387",
   "metadata": {},
   "outputs": [
    {
     "name": "stdout",
     "output_type": "stream",
     "text": [
      "[ 8 10 12 14 16]\n",
      "[-6 -6 -6 -6 -6]\n",
      "[ 7 16 27 40 55]\n",
      "[0.14285714 0.125      0.11111111 0.1        0.09090909]\n",
      "[-6 -6 -6 -6 -6]\n"
     ]
    }
   ],
   "source": [
    "arr7= np.array([1,2,3,4,5])\n",
    "arr8= np.array([7,8,9,10,11])\n",
    "print(arr7+arr8)\n",
    "print(arr7-arr8)\n",
    "print(arr7*arr8)\n",
    "print(1/arr8) #Inverse\n",
    "print(arr7-arr8)"
   ]
  },
  {
   "cell_type": "markdown",
   "id": "cc452306",
   "metadata": {},
   "source": [
    "#### Operations on Matrices:-"
   ]
  },
  {
   "cell_type": "code",
   "execution_count": 28,
   "id": "c370b843",
   "metadata": {},
   "outputs": [
    {
     "name": "stdout",
     "output_type": "stream",
     "text": [
      "[[1 2 3]\n",
      " [4 5 6]\n",
      " [7 8 9]]\n",
      "[[1. 0. 0.]\n",
      " [0. 1. 0.]\n",
      " [0. 0. 1.]]\n"
     ]
    }
   ],
   "source": [
    "matrix7=np.arange(1,10).reshape(3,3)\n",
    "print(matrix7)\n",
    "matrix8=np.eye(3)\n",
    "print(matrix8)"
   ]
  },
  {
   "cell_type": "code",
   "execution_count": 31,
   "id": "edffb661",
   "metadata": {},
   "outputs": [
    {
     "name": "stdout",
     "output_type": "stream",
     "text": [
      "Add: \n",
      " [[ 2.  2.  3.]\n",
      " [ 4.  6.  6.]\n",
      " [ 7.  8. 10.]]\n",
      "Sub: \n",
      " [[0. 2. 3.]\n",
      " [4. 4. 6.]\n",
      " [7. 8. 8.]]\n",
      "Multiply: \n",
      " [[1. 0. 0.]\n",
      " [0. 5. 0.]\n",
      " [0. 0. 9.]]\n",
      "Divide:  [[ 1. inf inf]\n",
      " [inf  5. inf]\n",
      " [inf inf  9.]]\n"
     ]
    },
    {
     "name": "stderr",
     "output_type": "stream",
     "text": [
      "C:\\Users\\STUDENT\\AppData\\Local\\Temp\\ipykernel_1900\\1663195754.py:4: RuntimeWarning: divide by zero encountered in true_divide\n",
      "  print(\"Divide: \",matrix7/matrix8)\n"
     ]
    }
   ],
   "source": [
    "print(\"Add: \\n\",matrix7+matrix8)\n",
    "print(\"Sub: \\n\",matrix7-matrix8)\n",
    "print(\"Multiply: \\n\",matrix7*matrix8)\n",
    "print(\"Divide: \",matrix7/matrix8)"
   ]
  },
  {
   "cell_type": "code",
   "execution_count": 33,
   "id": "fcd35bcf",
   "metadata": {},
   "outputs": [
    {
     "data": {
      "text/plain": [
       "array([[1., 2., 3.],\n",
       "       [4., 5., 6.],\n",
       "       [7., 8., 9.]])"
      ]
     },
     "execution_count": 33,
     "metadata": {},
     "output_type": "execute_result"
    }
   ],
   "source": [
    "matrix7 @ matrix8  #Dot Multiplication"
   ]
  },
  {
   "cell_type": "code",
   "execution_count": 35,
   "id": "11475127",
   "metadata": {},
   "outputs": [
    {
     "data": {
      "text/plain": [
       "array([[1, 4, 7],\n",
       "       [2, 5, 8],\n",
       "       [3, 6, 9]])"
      ]
     },
     "execution_count": 35,
     "metadata": {},
     "output_type": "execute_result"
    }
   ],
   "source": [
    "np.transpose(matrix7)  #transpose"
   ]
  },
  {
   "cell_type": "code",
   "execution_count": 37,
   "id": "a9fb63a4",
   "metadata": {},
   "outputs": [
    {
     "data": {
      "text/plain": [
       "array([[1, 4, 7],\n",
       "       [2, 5, 8],\n",
       "       [3, 6, 9]])"
      ]
     },
     "execution_count": 37,
     "metadata": {},
     "output_type": "execute_result"
    }
   ],
   "source": [
    "matrix7.T   #transpose"
   ]
  },
  {
   "cell_type": "markdown",
   "id": "7b341206",
   "metadata": {},
   "source": [
    "#### Min and max in Matrix"
   ]
  },
  {
   "cell_type": "code",
   "execution_count": 39,
   "id": "e64833ea",
   "metadata": {},
   "outputs": [
    {
     "data": {
      "text/plain": [
       "1"
      ]
     },
     "execution_count": 39,
     "metadata": {},
     "output_type": "execute_result"
    }
   ],
   "source": [
    "np.min(matrix7)"
   ]
  },
  {
   "cell_type": "code",
   "execution_count": 41,
   "id": "dc5e4bd8",
   "metadata": {},
   "outputs": [
    {
     "data": {
      "text/plain": [
       "9"
      ]
     },
     "execution_count": 41,
     "metadata": {},
     "output_type": "execute_result"
    }
   ],
   "source": [
    "np.max(matrix7)"
   ]
  },
  {
   "cell_type": "markdown",
   "id": "1033aafe",
   "metadata": {},
   "source": [
    "#### Function to generate random samples:"
   ]
  },
  {
   "cell_type": "code",
   "execution_count": 43,
   "id": "cfa24617",
   "metadata": {},
   "outputs": [
    {
     "name": "stdout",
     "output_type": "stream",
     "text": [
      "[0.68095422 0.73535916 0.7586863  0.44478664 0.3566435 ]\n"
     ]
    }
   ],
   "source": [
    "rand_mat=np.random.rand(5) #IN ARRAYS\n",
    "print(rand_mat)"
   ]
  },
  {
   "cell_type": "code",
   "execution_count": 45,
   "id": "52e45570",
   "metadata": {},
   "outputs": [
    {
     "name": "stdout",
     "output_type": "stream",
     "text": [
      "[[0.73912734 0.28222182 0.55847131 0.41652438 0.04972252]\n",
      " [0.26609153 0.03391975 0.28329034 0.91817852 0.00548396]\n",
      " [0.71287703 0.35215337 0.9917019  0.32600735 0.7595425 ]\n",
      " [0.57347611 0.15393232 0.99898604 0.40651006 0.75085608]\n",
      " [0.41976533 0.18470859 0.34781355 0.59087032 0.48779031]]\n"
     ]
    }
   ],
   "source": [
    "rand_mat=np.random.rand(5,5) #IN MATRIX\n",
    "print(rand_mat)"
   ]
  },
  {
   "cell_type": "code",
   "execution_count": 55,
   "id": "8a4297e6",
   "metadata": {},
   "outputs": [
    {
     "data": {
      "text/plain": [
       "array([ 0.90082142,  0.19340349, -1.28735515, -0.80977881,  0.5109287 ,\n",
       "        0.49368431,  0.01804808,  0.20311004, -0.69561877,  0.59066638,\n",
       "        0.08582479, -0.47136879,  1.7437147 , -0.72954168, -0.67647838,\n",
       "       -1.05199002, -0.6256809 ,  0.29353258, -0.86659369,  0.36272467,\n",
       "       -0.57050196,  0.96788145, -0.82377865, -0.77490033,  1.39291489,\n",
       "        0.39151063,  0.40307359,  1.22978222,  1.09646842,  1.27599399,\n",
       "        0.79375494,  0.727692  ,  0.49880462,  0.06537291,  1.10631686,\n",
       "       -0.51132939, -0.55297794, -0.38235595,  0.67346972, -0.13394443,\n",
       "        0.20130893,  0.59442194, -0.29196283,  0.55300455, -0.0666195 ,\n",
       "        0.59095784, -0.73072333, -0.03157701,  0.13981303,  0.59167878,\n",
       "        0.51547152,  0.69068472, -0.5832056 ,  0.35916711, -0.70276951,\n",
       "        0.23333673,  1.294678  ,  0.0716176 ,  2.3047842 ,  1.06684147,\n",
       "        1.6398726 ,  1.41953922, -0.71290474,  0.27439405,  0.32559133,\n",
       "        0.22315671, -1.37132245,  0.20133973, -1.58703613,  0.16285227,\n",
       "       -0.4851465 ,  0.59271443,  0.37052178, -0.06818569,  0.03713749,\n",
       "       -0.86891458, -0.32942867, -0.97982953,  1.23304295, -0.40076092,\n",
       "        0.82685157,  0.06289497,  0.06327918, -0.60316125, -0.17049483,\n",
       "        0.33617913, -1.32194914,  0.18591077, -0.38618225,  1.98770881,\n",
       "       -0.62092143,  1.52390865,  0.65758841, -1.78970504,  0.30062421,\n",
       "        0.31234491, -1.84455747, -0.97290815,  1.83522905,  0.73943398])"
      ]
     },
     "execution_count": 55,
     "metadata": {},
     "output_type": "execute_result"
    }
   ],
   "source": [
    "rand_2=np.random.randn(100) #Mean = 0 and S.D=1\n",
    "rand_2\n"
   ]
  },
  {
   "cell_type": "code",
   "execution_count": 56,
   "id": "271d1b28",
   "metadata": {},
   "outputs": [
    {
     "data": {
      "text/plain": [
       "0.126549166397209"
      ]
     },
     "execution_count": 56,
     "metadata": {},
     "output_type": "execute_result"
    }
   ],
   "source": [
    "np.mean(rand_2)"
   ]
  },
  {
   "cell_type": "code",
   "execution_count": 58,
   "id": "a01bd29d",
   "metadata": {},
   "outputs": [
    {
     "data": {
      "text/plain": [
       "0.8401318420296918"
      ]
     },
     "execution_count": 58,
     "metadata": {},
     "output_type": "execute_result"
    }
   ],
   "source": [
    "np.std(rand_2)"
   ]
  },
  {
   "cell_type": "markdown",
   "id": "5cab4a47",
   "metadata": {},
   "source": [
    "# randint() :"
   ]
  },
  {
   "cell_type": "code",
   "execution_count": 63,
   "id": "ae13fa2b",
   "metadata": {},
   "outputs": [
    {
     "data": {
      "text/plain": [
       "array([3, 3, 5, 2, 5, 3, 4, 5, 4, 2])"
      ]
     },
     "execution_count": 63,
     "metadata": {},
     "output_type": "execute_result"
    }
   ],
   "source": [
    "rand_3=np.random.randint(2,6,10) #IN ARRAY\n",
    "rand_3  # 2 included and 6 excluded"
   ]
  },
  {
   "cell_type": "code",
   "execution_count": 66,
   "id": "dd16406b",
   "metadata": {},
   "outputs": [
    {
     "name": "stdout",
     "output_type": "stream",
     "text": [
      "[[2 5 4 6 5]\n",
      " [4 3 2 1 4]\n",
      " [6 7 8 8 4]]\n"
     ]
    }
   ],
   "source": [
    "rand_4=np.random.randint(1,10,[3,5])\n",
    "print(rand_4)"
   ]
  },
  {
   "cell_type": "markdown",
   "id": "8b446128",
   "metadata": {},
   "source": [
    "## Accessing the entries of a Numpy Array:-"
   ]
  },
  {
   "cell_type": "code",
   "execution_count": 68,
   "id": "8987e96c",
   "metadata": {},
   "outputs": [
    {
     "data": {
      "text/plain": [
       "array([-0.77593598,  1.51412763, -2.18928772,  0.26889444, -0.26957126,\n",
       "        0.73813399,  1.16315123,  0.68453537, -0.99619104, -0.30525089])"
      ]
     },
     "execution_count": 68,
     "metadata": {},
     "output_type": "execute_result"
    }
   ],
   "source": [
    "rand_arr=np.random.randn(10)\n",
    "rand_arr"
   ]
  },
  {
   "cell_type": "code",
   "execution_count": 70,
   "id": "7bd6c82d",
   "metadata": {},
   "outputs": [
    {
     "data": {
      "text/plain": [
       "0.738133991883783"
      ]
     },
     "execution_count": 70,
     "metadata": {},
     "output_type": "execute_result"
    }
   ],
   "source": [
    "rand_arr[5]"
   ]
  },
  {
   "cell_type": "code",
   "execution_count": 72,
   "id": "4f30e75b",
   "metadata": {},
   "outputs": [
    {
     "data": {
      "text/plain": [
       "array([-2.18928772,  0.26889444, -0.26957126,  0.73813399])"
      ]
     },
     "execution_count": 72,
     "metadata": {},
     "output_type": "execute_result"
    }
   ],
   "source": [
    "rand_arr[2:6]"
   ]
  },
  {
   "cell_type": "code",
   "execution_count": 77,
   "id": "d9bd1938",
   "metadata": {},
   "outputs": [
    {
     "name": "stdout",
     "output_type": "stream",
     "text": [
      "Index of values to access:  [3 6 9]\n",
      "[ 0.26889444  1.16315123 -0.30525089]\n"
     ]
    }
   ],
   "source": [
    "#we can also access multiple non-consecutive entries using np.range\n",
    "print(\"Index of values to access: \",np.arange(3,10,3))\n",
    "print(rand_arr[np.arange(3,10,3)])"
   ]
  },
  {
   "cell_type": "markdown",
   "id": "b4ad4faf",
   "metadata": {},
   "source": [
    "#### Accessing using Logical Operators!!!!"
   ]
  },
  {
   "cell_type": "code",
   "execution_count": 79,
   "id": "3e1c1556",
   "metadata": {},
   "outputs": [
    {
     "data": {
      "text/plain": [
       "array([False,  True, False,  True, False,  True,  True,  True, False,\n",
       "       False])"
      ]
     },
     "execution_count": 79,
     "metadata": {},
     "output_type": "execute_result"
    }
   ],
   "source": [
    "rand_arr>0"
   ]
  },
  {
   "cell_type": "code",
   "execution_count": 81,
   "id": "a85fa0b9",
   "metadata": {},
   "outputs": [
    {
     "data": {
      "text/plain": [
       "array([1.51412763, 0.26889444, 0.73813399, 1.16315123, 0.68453537])"
      ]
     },
     "execution_count": 81,
     "metadata": {},
     "output_type": "execute_result"
    }
   ],
   "source": [
    "rand_arr[rand_arr>0]"
   ]
  },
  {
   "cell_type": "markdown",
   "id": "db7e1e08",
   "metadata": {},
   "source": [
    "# Accessing in Matrices:-"
   ]
  },
  {
   "cell_type": "code",
   "execution_count": 84,
   "id": "e9b436d4",
   "metadata": {},
   "outputs": [
    {
     "data": {
      "text/plain": [
       "array([[ 0.37555684, -1.33150701,  0.47724859,  1.25231051, -0.15883116],\n",
       "       [-1.02484982, -0.593881  ,  0.87521783, -0.02482194, -0.19625388],\n",
       "       [ 2.57991771, -1.19549581, -0.73959178,  0.17297907,  0.10587321],\n",
       "       [-1.60070276,  1.07510438, -0.07928606, -0.45509335, -0.14028964],\n",
       "       [-1.70816976,  0.57193066,  0.79426423,  0.97255449, -0.29460786]])"
      ]
     },
     "execution_count": 84,
     "metadata": {},
     "output_type": "execute_result"
    }
   ],
   "source": [
    "rand_mat=np.random.randn(5,5)\n",
    "rand_mat"
   ]
  },
  {
   "cell_type": "code",
   "execution_count": 86,
   "id": "65c41650",
   "metadata": {},
   "outputs": [
    {
     "data": {
      "text/plain": [
       "array([-1.02484982, -0.593881  ,  0.87521783, -0.02482194, -0.19625388])"
      ]
     },
     "execution_count": 86,
     "metadata": {},
     "output_type": "execute_result"
    }
   ],
   "source": [
    "rand_mat[1]"
   ]
  },
  {
   "cell_type": "code",
   "execution_count": 91,
   "id": "bee661da",
   "metadata": {},
   "outputs": [
    {
     "data": {
      "text/plain": [
       "0.4772485908126146"
      ]
     },
     "execution_count": 91,
     "metadata": {},
     "output_type": "execute_result"
    }
   ],
   "source": [
    "rand_mat[0][2]"
   ]
  },
  {
   "cell_type": "code",
   "execution_count": 93,
   "id": "c1db32df",
   "metadata": {},
   "outputs": [
    {
     "data": {
      "text/plain": [
       "0.4772485908126146"
      ]
     },
     "execution_count": 93,
     "metadata": {},
     "output_type": "execute_result"
    }
   ],
   "source": [
    "rand_mat[0,2]"
   ]
  },
  {
   "cell_type": "code",
   "execution_count": 95,
   "id": "e30abbdd",
   "metadata": {},
   "outputs": [
    {
     "data": {
      "text/plain": [
       "array([[-1.33150701,  0.47724859],\n",
       "       [-0.593881  ,  0.87521783]])"
      ]
     },
     "execution_count": 95,
     "metadata": {},
     "output_type": "execute_result"
    }
   ],
   "source": [
    "#accessing first two rows with second and third column\n",
    "rand_mat[0:2,1:3]"
   ]
  },
  {
   "cell_type": "markdown",
   "id": "bf569a26",
   "metadata": {},
   "source": [
    "#### Accessing matrices using logical operations:- "
   ]
  },
  {
   "cell_type": "code",
   "execution_count": 97,
   "id": "02862042",
   "metadata": {},
   "outputs": [
    {
     "name": "stdout",
     "output_type": "stream",
     "text": [
      "[[ 0.37555684 -1.33150701  0.47724859  1.25231051 -0.15883116]\n",
      " [-1.02484982 -0.593881    0.87521783 -0.02482194 -0.19625388]\n",
      " [ 2.57991771 -1.19549581 -0.73959178  0.17297907  0.10587321]\n",
      " [-1.60070276  1.07510438 -0.07928606 -0.45509335 -0.14028964]\n",
      " [-1.70816976  0.57193066  0.79426423  0.97255449 -0.29460786]]\n"
     ]
    }
   ],
   "source": [
    "print(rand_mat)"
   ]
  },
  {
   "cell_type": "code",
   "execution_count": 99,
   "id": "0f0052f6",
   "metadata": {},
   "outputs": [
    {
     "data": {
      "text/plain": [
       "array([0.37555684, 0.47724859, 1.25231051, 0.87521783, 2.57991771,\n",
       "       0.17297907, 0.10587321, 1.07510438, 0.57193066, 0.79426423,\n",
       "       0.97255449])"
      ]
     },
     "execution_count": 99,
     "metadata": {},
     "output_type": "execute_result"
    }
   ],
   "source": [
    "rand_mat[rand_mat>0]"
   ]
  },
  {
   "cell_type": "code",
   "execution_count": 100,
   "id": "f97ad022",
   "metadata": {},
   "outputs": [
    {
     "data": {
      "text/plain": [
       "array([-1.33150701, -0.15883116, -1.02484982, -0.593881  , -0.02482194,\n",
       "       -0.19625388, -1.19549581, -0.73959178, -1.60070276, -0.07928606,\n",
       "       -0.45509335, -0.14028964, -1.70816976, -0.29460786])"
      ]
     },
     "execution_count": 100,
     "metadata": {},
     "output_type": "execute_result"
    }
   ],
   "source": [
    "rand_mat[rand_mat<0]"
   ]
  }
 ],
 "metadata": {
  "kernelspec": {
   "display_name": "Python 3 (ipykernel)",
   "language": "python",
   "name": "python3"
  },
  "language_info": {
   "codemirror_mode": {
    "name": "ipython",
    "version": 3
   },
   "file_extension": ".py",
   "mimetype": "text/x-python",
   "name": "python",
   "nbconvert_exporter": "python",
   "pygments_lexer": "ipython3",
   "version": "3.9.13"
  }
 },
 "nbformat": 4,
 "nbformat_minor": 5
}
