{
 "cells": [
  {
   "cell_type": "code",
   "execution_count": 1,
   "id": "bd50a832-abfc-4c6c-b988-3221b589c3c7",
   "metadata": {},
   "outputs": [],
   "source": [
    "## 5 Number Summary\n",
    "# 1. Min Value\n",
    "# 2. Q1 = 25% percentile\n",
    "# 3.  Median\n",
    "# 4. Q3 = 75% percentile\n",
    "# 5. Max Value"
   ]
  },
  {
   "cell_type": "code",
   "execution_count": 2,
   "id": "c3852972-9692-4839-9b2c-81795ec8e2d7",
   "metadata": {},
   "outputs": [],
   "source": [
    "import numpy as np"
   ]
  },
  {
   "cell_type": "code",
   "execution_count": 3,
   "id": "f1114371-7634-4322-8c49-4349a9135cd1",
   "metadata": {},
   "outputs": [],
   "source": [
    "lst_marks=[45,32,56,75,89,54,32,89,90,87,67,54,45,98,99,67,74,1000,1100]"
   ]
  },
  {
   "cell_type": "code",
   "execution_count": 7,
   "id": "b118d77e-e340-431b-b986-db0e9fd6693a",
   "metadata": {},
   "outputs": [
    {
     "data": {
      "text/plain": [
       "array([54.])"
      ]
     },
     "execution_count": 7,
     "metadata": {},
     "output_type": "execute_result"
    }
   ],
   "source": [
    "# Lower Fence <-------> Higher Fence\n",
    "q1 = np.percentile(lst_marks,[25])\n",
    "q1"
   ]
  },
  {
   "cell_type": "code",
   "execution_count": 15,
   "id": "40960eb9-abf2-466e-9469-c239a9405979",
   "metadata": {},
   "outputs": [],
   "source": [
    "minimum,Q1,median,Q3,maximum=np.quantile(lst_marks,[0,0.25,0.50,0.75,1.0])"
   ]
  },
  {
   "cell_type": "code",
   "execution_count": 16,
   "id": "16911788-766b-420c-aa82-976820af01d7",
   "metadata": {},
   "outputs": [
    {
     "data": {
      "text/plain": [
       "(32.0, 54.0, 74.0, 89.5, 1100.0)"
      ]
     },
     "execution_count": 16,
     "metadata": {},
     "output_type": "execute_result"
    }
   ],
   "source": [
    "minimum,Q1,median,Q3,maximum"
   ]
  },
  {
   "cell_type": "code",
   "execution_count": 17,
   "id": "faff01d2-3946-407b-b36c-67ce0365927c",
   "metadata": {},
   "outputs": [
    {
     "name": "stdout",
     "output_type": "stream",
     "text": [
      "35.5\n"
     ]
    }
   ],
   "source": [
    "IQR=Q3-Q1\n",
    "print(IQR)"
   ]
  },
  {
   "cell_type": "code",
   "execution_count": 18,
   "id": "c0997d43-8218-4130-bc6f-8e4525f7e83e",
   "metadata": {},
   "outputs": [],
   "source": [
    "lower_fence=Q1-1.5*(IQR)\n",
    "higher_fence=Q3+1.5*(IQR)\n"
   ]
  },
  {
   "cell_type": "code",
   "execution_count": 19,
   "id": "78528bf0-9fb2-423e-9930-09fad28d1b9e",
   "metadata": {},
   "outputs": [
    {
     "data": {
      "text/plain": [
       "(0.75, 142.75)"
      ]
     },
     "execution_count": 19,
     "metadata": {},
     "output_type": "execute_result"
    }
   ],
   "source": [
    "lower_fence,higher_fence"
   ]
  },
  {
   "cell_type": "code",
   "execution_count": 24,
   "id": "e1b23d7a-d4d8-4755-8907-65b79d8d5b26",
   "metadata": {},
   "outputs": [],
   "source": [
    "outliers=[]\n",
    "for i in lst_marks:\n",
    "    if i>=0.75 and i<=142.75:\n",
    "        pass\n",
    "    else:\n",
    "        outliers.append(i)\n",
    "        "
   ]
  },
  {
   "cell_type": "code",
   "execution_count": 25,
   "id": "745ce93e-34f5-4dd7-bae2-5f55e95b010c",
   "metadata": {},
   "outputs": [
    {
     "data": {
      "text/plain": [
       "[1000, 1100]"
      ]
     },
     "execution_count": 25,
     "metadata": {},
     "output_type": "execute_result"
    }
   ],
   "source": [
    "outliers"
   ]
  },
  {
   "cell_type": "code",
   "execution_count": 26,
   "id": "71797bb5-14e9-4fe2-900b-25d084532e00",
   "metadata": {},
   "outputs": [],
   "source": [
    "import seaborn as sns"
   ]
  },
  {
   "cell_type": "code",
   "execution_count": 27,
   "id": "dac31850-cd8f-4496-b1b7-3f42ab8414c0",
   "metadata": {},
   "outputs": [
    {
     "data": {
      "text/plain": [
       "<AxesSubplot: >"
      ]
     },
     "execution_count": 27,
     "metadata": {},
     "output_type": "execute_result"
    },
    {
     "data": {
      "image/png": "[encoded data removed]",
      "text/plain": [
       "<Figure size 640x480 with 1 Axes>"
      ]
     },
     "metadata": {},
     "output_type": "display_data"
    }
   ],
   "source": [
    "sns.boxplot(lst_marks)"
   ]
  },
  {
   "cell_type": "code",
   "execution_count": null,
   "id": "9cf5cc2a-76bb-4743-b768-901b6b1f2c5f",
   "metadata": {},
   "outputs": [],
   "source": []
  }
 ],
 "metadata": {
  "kernelspec": {
   "display_name": "Python 3 (ipykernel)",
   "language": "python",
   "name": "python3"
  },
  "language_info": {
   "codemirror_mode": {
    "name": "ipython",
    "version": 3
   },
   "file_extension": ".py",
   "mimetype": "text/x-python",
   "name": "python",
   "nbconvert_exporter": "python",
   "pygments_lexer": "ipython3",
   "version": "3.10.8"
  }
 },
 "nbformat": 4,
 "nbformat_minor": 5
}
